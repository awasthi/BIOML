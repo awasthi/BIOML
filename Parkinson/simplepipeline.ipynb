{
 "cells": [
  {
   "cell_type": "markdown",
   "id": "7def6c6b",
   "metadata": {},
   "source": [
    "Let's build a sample pipeline for gene expression-based classification of Parkinson’s Disease using real GEO-like data.\n",
    "We’ll simulate the pipeline as if you’ve already:\n",
    "- Downloaded and preprocessed the gene expression data\n",
    "- Have a matrix X (samples × genes, shape: 100 × 10000)\n",
    "- Have labels y (0 = control, 1 = PD)\n",
    "\n",
    "We’ll go with:\n",
    "- MRMR for initial filtering\n",
    "- RFE for fine-tuning feature selection\n",
    "- SVM for classification\n",
    "- Evaluate with cross-validation"
   ]
  },
  {
   "cell_type": "code",
   "execution_count": 1,
   "id": "03eebb2e",
   "metadata": {},
   "outputs": [],
   "source": [
    "import pandas as pd\n",
    "import numpy as np\n",
    "from sklearn.model_selection import StratifiedKFold, cross_val_score\n",
    "from sklearn.svm import SVC\n",
    "from sklearn.feature_selection import RFE\n",
    "import pymrmr"
   ]
  },
  {
   "cell_type": "code",
   "execution_count": 2,
   "id": "255e3723",
   "metadata": {},
   "outputs": [],
   "source": [
    "# Simulated example\n",
    "X = pd.DataFrame(np.random.rand(100, 10000), columns=[f'gene{i}' for i in range(10000)])\n",
    "y = pd.Series(np.random.randint(0, 2, size=100), name='label')\n",
    "\n",
    "# Combine for MRMR (pymrmr needs labels in same DataFrame)\n",
    "df = X.copy()\n",
    "df['label'] = y"
   ]
  },
  {
   "cell_type": "code",
   "execution_count": null,
   "id": "8c413e36",
   "metadata": {},
   "outputs": [],
   "source": [
    "# MRMR Feature Filtering (Top 200 Genes)\n",
    "top_genes = pymrmr.mRMR(df, 'MIQ', 200)\n",
    "X_mrmr = X[top_genes]\n",
    "\n",
    "# RFE with SVM to Select Final 30 Genes\n",
    "svm = SVC(kernel='linear')\n",
    "rfe = RFE(estimator=svm, n_features_to_select=30, step=1000)\n",
    "rfe.fit(X_mrmr, y)\n",
    "\n",
    "# Get reduced feature set\n",
    "X_rfe = X_mrmr.loc[:, X_mrmr.columns[rfe.support_]]"
   ]
  },
  {
   "cell_type": "code",
   "execution_count": null,
   "id": "9ffda2ce",
   "metadata": {},
   "outputs": [],
   "source": [
    "# Train & Evaluate Final Model\n",
    "# 5-fold cross-validation\n",
    "final_model = SVC(kernel='linear')\n",
    "cv = StratifiedKFold(n_splits=5, shuffle=True, random_state=42)\n",
    "\n",
    "scores = cross_val_score(final_model, X_rfe, y, cv=cv, scoring='accuracy')\n",
    "print(f\"Mean Accuracy: {scores.mean():.4f} ± {scores.std():.4f}\")\n"
   ]
  },
  {
   "cell_type": "code",
   "execution_count": null,
   "id": "9b973a20",
   "metadata": {},
   "outputs": [],
   "source": [
    "#optional\n",
    "from sklearn.linear_model import LogisticRegression\n",
    "from sklearn.feature_selection import SelectFromModel\n",
    "\n",
    "lasso = LogisticRegression(penalty='l1', solver='liblinear', C=0.01)\n",
    "lasso.fit(X, y)\n",
    "selector = SelectFromModel(lasso, prefit=True)\n",
    "X_lasso = selector.transform(X)\n",
    "\n",
    "scores = cross_val_score(SVC(kernel='linear'), X_lasso, y, cv=cv)\n",
    "print(f\"LASSO + SVM Accuracy: {scores.mean():.4f}\")\n"
   ]
  },
  {
   "cell_type": "code",
   "execution_count": null,
   "id": "ddface89",
   "metadata": {},
   "outputs": [],
   "source": [
    "#alternate to mrmr - mutual info\n",
    "\n",
    "from sklearn.feature_selection import SelectKBest, mutual_info_classif\n",
    "\n",
    "selector = SelectKBest(score_func=mutual_info_classif, k=200)\n",
    "X_selected = selector.fit_transform(X, y)\n",
    "selected_gene_names = X.columns[selector.get_support()]\n"
   ]
  }
 ],
 "metadata": {
  "kernelspec": {
   "display_name": "base",
   "language": "python",
   "name": "python3"
  },
  "language_info": {
   "codemirror_mode": {
    "name": "ipython",
    "version": 3
   },
   "file_extension": ".py",
   "mimetype": "text/x-python",
   "name": "python",
   "nbconvert_exporter": "python",
   "pygments_lexer": "ipython3",
   "version": "3.11.7"
  }
 },
 "nbformat": 4,
 "nbformat_minor": 5
}
