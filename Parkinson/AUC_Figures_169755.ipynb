{
  "cells": [
    {
      "cell_type": "markdown",
      "metadata": {
        "id": "4gsxYQvN5_PM"
      },
      "source": [
        "# Using Genex to identify marker genes"
      ]
    },
    {
      "cell_type": "code",
      "execution_count": 1,
      "metadata": {
        "id": "b1FLb07a6MAJ"
      },
      "outputs": [],
      "source": [
        "#from google.colab import drive\n",
        "#drive.mount('/content/drive')\n"
      ]
    },
    {
      "cell_type": "code",
      "execution_count": 2,
      "metadata": {
        "id": "a4rDoEtU6i7w"
      },
      "outputs": [],
      "source": [
        "#import os\n",
        "#os.chdir(\"/content/drive/My Drive/BIOML/HIMANI\")"
      ]
    },
    {
      "cell_type": "code",
      "execution_count": 2,
      "metadata": {
        "id": "2TUWo0L15_PR"
      },
      "outputs": [],
      "source": [
        "import numpy as np\n",
        "import pandas as pd\n",
        "from scipy import stats\n",
        "\n",
        "from sklearn.ensemble import RandomForestClassifier\n",
        "from sklearn.linear_model import SGDClassifier, LogisticRegression,RidgeClassifier\n",
        "from xgboost.sklearn import XGBClassifier\n",
        "from sklearn.preprocessing import MinMaxScaler\n",
        "from sklearn.svm import LinearSVC, SVC\n",
        "from genex.filters.embedded import EmbeddedFilter\n",
        "from genex.filters.mrmr import MRMRP\n",
        "from genex.utils.help_functions import model_based_relevance, auc_relevance, load_DEGs\n",
        "from sklearn.feature_selection import RFE,RFECV, SelectKBest, f_classif,SelectKBest, mutual_info_classif,chi2\n",
        "from genex.eval.evaluate import do_train_test\n",
        "from genex.eval.cross_validation import  do_cross_validation_with_feature_selection,do_cross_validation\n",
        "\n",
        "%matplotlib inline\n",
        "import matplotlib.pyplot as plt\n",
        "#%matplotlib inline\n",
        "\n",
        "#from matplotlib.pyplot import plt\n",
        "import seaborn as sns\n",
        "import warnings\n",
        "\n",
        "# Comment these lines if you are not using Mac OS\n",
        "import matplotlib as mpl\n",
        "#mpl.use('MacOSX')\n",
        "import os\n",
        "os.environ['KMP_DUPLICATE_LIB_OK']='True'\n",
        "\n",
        "# Set random seed\n",
        "seed = 7\n",
        "np.random.seed(seed)"
      ]
    },
    {
      "cell_type": "markdown",
      "metadata": {
        "id": "3gmMJjVA5_Pc"
      },
      "source": [
        "## Inputs and parameters"
      ]
    },
    {
      "cell_type": "code",
      "execution_count": 3,
      "metadata": {
        "id": "d8bXgPAu5_Pe"
      },
      "outputs": [],
      "source": [
        "# ========== INPUTS ==========\n",
        "\n",
        "mydata = 'GSE169755_norm'\n",
        "\n",
        "\n",
        "data_file = './data/'+ mydata +'.csv'\n",
        "\n",
        "deg_lf_file = './data/'+ mydata +'_DEGS.csv'\n",
        "degs_file = './data/'+ mydata +'_DEGS.txt'   # If None, all genes will be considered.\n",
        "out_file = './results/'+ mydata +'/fs_scores.csv'\n",
        "\n",
        "is_save_results = True\n",
        "\n",
        "# data pre-processing\n",
        "is_normalize_samples = False\n",
        "is_normalize_columns = True\n",
        "norm_filter = MinMaxScaler()\n",
        "\n",
        "# experiment\n",
        "num_folds = 5 #2\n",
        "num_runs = 5  #2\n",
        "label = 'disease'\n",
        "\n",
        "# feature selection\n",
        "# num_features = 10 #20\n",
        "# fsm = MRMRP(relevance_func= auc_relevance, redundancy_func=stats.pearsonr, num_features=num_features)\n",
        "\n",
        "models = {\n",
        "    \"LinearSVC\": LinearSVC(),\n",
        "    \"RidgeClassifier\" : RidgeClassifier(alpha=1.0, max_iter=1000, solver='auto', tol=1e-3),\n",
        "    \"LogisticRegression\": LogisticRegression(max_iter=1000),\n",
        "    \"SGDClassifier\" : SGDClassifier(loss=\"log_loss\", penalty=\"l2\", random_state=seed,learning_rate='optimal')\n",
        "}\n",
        "\n",
        "\n",
        "top_markers_to_viz = 10    # set to zero to visualize all potential markers. was 10"
      ]
    },
    {
      "cell_type": "code",
      "execution_count": 4,
      "metadata": {},
      "outputs": [
        {
          "name": "stdout",
          "output_type": "stream",
          "text": [
            "No DEGs provided or file not found. Pipeline will consider all genes.\n"
          ]
        }
      ],
      "source": [
        "if degs_file is not None and os.path.exists(degs_file):\n",
        "    DEGs = load_DEGs(degs_file)\n",
        "    # Keep only genes that exist in the dataframe columns\n",
        "    DEGs = [gene for gene in DEGs if gene in df.columns]\n",
        "    lenDEGs = len(DEGs)\n",
        "    print(f\"{lenDEGs} DEGs loaded and matched!\")\n",
        "else:\n",
        "    lenDEGs = 0\n",
        "    print(\"No DEGs provided or file not found. Pipeline will consider all genes.\")\n",
        "\n",
        "# def load_DEGs(path): if oen from simple text file. this will clean blanck space and blank lines\n",
        "#     with open(path, 'r') as f:\n",
        "#         return [line.strip() for line in f if line.strip()]\n"
      ]
    },
    {
      "cell_type": "code",
      "execution_count": 5,
      "metadata": {
        "colab": {
          "base_uri": "https://localhost:8080/",
          "height": 273
        },
        "id": "Wtu58vkD5_Pj",
        "outputId": "56986672-43ea-4195-8945-1fae45ae9556"
      },
      "outputs": [
        {
          "name": "stdout",
          "output_type": "stream",
          "text": [
            "Shape of ./data/GSE169755_norm.csv is (12, 16332)\n"
          ]
        },
        {
          "data": {
            "text/html": [
              "<div>\n",
              "<style scoped>\n",
              "    .dataframe tbody tr th:only-of-type {\n",
              "        vertical-align: middle;\n",
              "    }\n",
              "\n",
              "    .dataframe tbody tr th {\n",
              "        vertical-align: top;\n",
              "    }\n",
              "\n",
              "    .dataframe thead th {\n",
              "        text-align: right;\n",
              "    }\n",
              "</style>\n",
              "<table border=\"1\" class=\"dataframe\">\n",
              "  <thead>\n",
              "    <tr style=\"text-align: right;\">\n",
              "      <th>GeneId</th>\n",
              "      <th>Gene_653635</th>\n",
              "      <th>Gene_100996442</th>\n",
              "      <th>Gene_729737</th>\n",
              "      <th>Gene_102723897</th>\n",
              "      <th>Gene_112268260</th>\n",
              "      <th>Gene_100132287</th>\n",
              "      <th>Gene_113219467</th>\n",
              "      <th>Gene_100133331</th>\n",
              "      <th>Gene_105378580</th>\n",
              "      <th>Gene_643837</th>\n",
              "      <th>...</th>\n",
              "      <th>Gene_4538</th>\n",
              "      <th>Gene_4564</th>\n",
              "      <th>Gene_4575</th>\n",
              "      <th>Gene_4568</th>\n",
              "      <th>Gene_4540</th>\n",
              "      <th>Gene_4541</th>\n",
              "      <th>Gene_4556</th>\n",
              "      <th>Gene_4519</th>\n",
              "      <th>Gene_4576</th>\n",
              "      <th>Gene_4571</th>\n",
              "    </tr>\n",
              "  </thead>\n",
              "  <tbody>\n",
              "    <tr>\n",
              "      <th>GSM5213623</th>\n",
              "      <td>1.912638</td>\n",
              "      <td>1.151930</td>\n",
              "      <td>1.381648</td>\n",
              "      <td>1.954344</td>\n",
              "      <td>1.242675</td>\n",
              "      <td>1.281803</td>\n",
              "      <td>2.821979</td>\n",
              "      <td>1.281803</td>\n",
              "      <td>1.151930</td>\n",
              "      <td>2.446541</td>\n",
              "      <td>...</td>\n",
              "      <td>5.999356</td>\n",
              "      <td>2.877591</td>\n",
              "      <td>2.272502</td>\n",
              "      <td>2.336376</td>\n",
              "      <td>5.364489</td>\n",
              "      <td>5.007669</td>\n",
              "      <td>3.020287</td>\n",
              "      <td>5.811568</td>\n",
              "      <td>2.953181</td>\n",
              "      <td>3.071773</td>\n",
              "    </tr>\n",
              "    <tr>\n",
              "      <th>GSM5213624</th>\n",
              "      <td>1.863293</td>\n",
              "      <td>1.270246</td>\n",
              "      <td>1.333850</td>\n",
              "      <td>1.964239</td>\n",
              "      <td>1.389318</td>\n",
              "      <td>1.333850</td>\n",
              "      <td>2.845333</td>\n",
              "      <td>1.414603</td>\n",
              "      <td>1.362469</td>\n",
              "      <td>2.508898</td>\n",
              "      <td>...</td>\n",
              "      <td>6.001369</td>\n",
              "      <td>2.460867</td>\n",
              "      <td>2.218955</td>\n",
              "      <td>2.195191</td>\n",
              "      <td>5.377041</td>\n",
              "      <td>5.045338</td>\n",
              "      <td>2.936247</td>\n",
              "      <td>5.829287</td>\n",
              "      <td>2.875255</td>\n",
              "      <td>3.270800</td>\n",
              "    </tr>\n",
              "    <tr>\n",
              "      <th>GSM5213625</th>\n",
              "      <td>2.022195</td>\n",
              "      <td>0.957856</td>\n",
              "      <td>0.881212</td>\n",
              "      <td>2.031190</td>\n",
              "      <td>0.732768</td>\n",
              "      <td>1.079602</td>\n",
              "      <td>2.792804</td>\n",
              "      <td>1.152715</td>\n",
              "      <td>1.195407</td>\n",
              "      <td>2.376791</td>\n",
              "      <td>...</td>\n",
              "      <td>5.475731</td>\n",
              "      <td>1.502872</td>\n",
              "      <td>1.215275</td>\n",
              "      <td>1.449664</td>\n",
              "      <td>4.848314</td>\n",
              "      <td>4.487190</td>\n",
              "      <td>1.880122</td>\n",
              "      <td>5.463328</td>\n",
              "      <td>2.094577</td>\n",
              "      <td>2.769590</td>\n",
              "    </tr>\n",
              "    <tr>\n",
              "      <th>GSM5213626</th>\n",
              "      <td>1.977081</td>\n",
              "      <td>1.233436</td>\n",
              "      <td>1.154518</td>\n",
              "      <td>2.059826</td>\n",
              "      <td>1.208689</td>\n",
              "      <td>1.154518</td>\n",
              "      <td>2.765757</td>\n",
              "      <td>1.233436</td>\n",
              "      <td>1.233436</td>\n",
              "      <td>2.325255</td>\n",
              "      <td>...</td>\n",
              "      <td>5.512973</td>\n",
              "      <td>1.568518</td>\n",
              "      <td>1.300194</td>\n",
              "      <td>1.509022</td>\n",
              "      <td>4.902666</td>\n",
              "      <td>4.613021</td>\n",
              "      <td>1.954818</td>\n",
              "      <td>5.481846</td>\n",
              "      <td>2.222491</td>\n",
              "      <td>2.550938</td>\n",
              "    </tr>\n",
              "    <tr>\n",
              "      <th>GSM5213627</th>\n",
              "      <td>1.856877</td>\n",
              "      <td>1.300591</td>\n",
              "      <td>1.175660</td>\n",
              "      <td>1.939063</td>\n",
              "      <td>1.414529</td>\n",
              "      <td>1.230014</td>\n",
              "      <td>2.624852</td>\n",
              "      <td>1.254837</td>\n",
              "      <td>0.476814</td>\n",
              "      <td>2.139421</td>\n",
              "      <td>...</td>\n",
              "      <td>5.608461</td>\n",
              "      <td>1.908029</td>\n",
              "      <td>1.543620</td>\n",
              "      <td>1.518066</td>\n",
              "      <td>4.855469</td>\n",
              "      <td>4.692553</td>\n",
              "      <td>2.052621</td>\n",
              "      <td>5.546280</td>\n",
              "      <td>2.273699</td>\n",
              "      <td>2.361268</td>\n",
              "    </tr>\n",
              "  </tbody>\n",
              "</table>\n",
              "<p>5 rows × 16331 columns</p>\n",
              "</div>"
            ],
            "text/plain": [
              "GeneId      Gene_653635  Gene_100996442  Gene_729737  Gene_102723897  \\\n",
              "GSM5213623     1.912638        1.151930     1.381648        1.954344   \n",
              "GSM5213624     1.863293        1.270246     1.333850        1.964239   \n",
              "GSM5213625     2.022195        0.957856     0.881212        2.031190   \n",
              "GSM5213626     1.977081        1.233436     1.154518        2.059826   \n",
              "GSM5213627     1.856877        1.300591     1.175660        1.939063   \n",
              "\n",
              "GeneId      Gene_112268260  Gene_100132287  Gene_113219467  Gene_100133331  \\\n",
              "GSM5213623        1.242675        1.281803        2.821979        1.281803   \n",
              "GSM5213624        1.389318        1.333850        2.845333        1.414603   \n",
              "GSM5213625        0.732768        1.079602        2.792804        1.152715   \n",
              "GSM5213626        1.208689        1.154518        2.765757        1.233436   \n",
              "GSM5213627        1.414529        1.230014        2.624852        1.254837   \n",
              "\n",
              "GeneId      Gene_105378580  Gene_643837  ...  Gene_4538  Gene_4564  Gene_4575  \\\n",
              "GSM5213623        1.151930     2.446541  ...   5.999356   2.877591   2.272502   \n",
              "GSM5213624        1.362469     2.508898  ...   6.001369   2.460867   2.218955   \n",
              "GSM5213625        1.195407     2.376791  ...   5.475731   1.502872   1.215275   \n",
              "GSM5213626        1.233436     2.325255  ...   5.512973   1.568518   1.300194   \n",
              "GSM5213627        0.476814     2.139421  ...   5.608461   1.908029   1.543620   \n",
              "\n",
              "GeneId      Gene_4568  Gene_4540  Gene_4541  Gene_4556  Gene_4519  Gene_4576  \\\n",
              "GSM5213623   2.336376   5.364489   5.007669   3.020287   5.811568   2.953181   \n",
              "GSM5213624   2.195191   5.377041   5.045338   2.936247   5.829287   2.875255   \n",
              "GSM5213625   1.449664   4.848314   4.487190   1.880122   5.463328   2.094577   \n",
              "GSM5213626   1.509022   4.902666   4.613021   1.954818   5.481846   2.222491   \n",
              "GSM5213627   1.518066   4.855469   4.692553   2.052621   5.546280   2.273699   \n",
              "\n",
              "GeneId      Gene_4571  \n",
              "GSM5213623   3.071773  \n",
              "GSM5213624   3.270800  \n",
              "GSM5213625   2.769590  \n",
              "GSM5213626   2.550938  \n",
              "GSM5213627   2.361268  \n",
              "\n",
              "[5 rows x 16331 columns]"
            ]
          },
          "execution_count": 5,
          "metadata": {},
          "output_type": "execute_result"
        }
      ],
      "source": [
        "df = pd.read_csv(data_file,low_memory=False)\n",
        "df=df.set_index('GeneId')\n",
        "df = df.transpose()\n",
        "\n",
        "#df2 = pd.read_csv(deg_lf_file)\n",
        "\n",
        "\n",
        "print('Shape of {0} is {1}'.format(data_file, df.shape))\n",
        "theData = df\n",
        "y = df[label]\n",
        "df =df.drop([label],axis=1)\n",
        "df.head()"
      ]
    },
    {
      "cell_type": "code",
      "execution_count": 6,
      "metadata": {},
      "outputs": [
        {
          "name": "stdout",
          "output_type": "stream",
          "text": [
            "Shape of ./data/GSE169755_norm.csv is (12, 16332)\n",
            "Shape (Within DEGs) of ./data/GSE169755_norm.csv is (12, 16331)\n"
          ]
        }
      ],
      "source": [
        "# Load and process data\n",
        "df = pd.read_csv(data_file, low_memory=False)\n",
        "df = df.set_index('GeneId').transpose()\n",
        "print(f\"Shape of {data_file} is {df.shape}\")\n",
        "\n",
        "y = df[label]\n",
        "\n",
        "if lenDEGs > 0:\n",
        "    df = df[DEGs]\n",
        "else:\n",
        "    df = df.drop([label], axis=1)\n",
        "\n",
        "print(f\"Shape (Within DEGs) of {data_file} is {df.shape}\")\n",
        "names = df.columns\n",
        "X = df.values\n"
      ]
    },
    {
      "cell_type": "code",
      "execution_count": 7,
      "metadata": {
        "colab": {
          "base_uri": "https://localhost:8080/"
        },
        "id": "9HmmiBYP5_Pl",
        "outputId": "c17d4c93-f15e-4fae-cc2f-2915d0b15cfc"
      },
      "outputs": [
        {
          "name": "stdout",
          "output_type": "stream",
          "text": [
            "Genes Normalized..\n"
          ]
        }
      ],
      "source": [
        "# Normalize per sample?\n",
        "if is_normalize_samples:\n",
        "    X = norm_filter.fit_transform(X.T, y).T\n",
        "    print('Samples Normalized..')\n",
        "# Normalize per sample\n",
        "elif is_normalize_columns:\n",
        "    X = norm_filter.fit_transform(X, y)\n",
        "    print('Genes Normalized..')\n",
        "else:\n",
        "    print('No normalization used..')"
      ]
    },
    {
      "cell_type": "code",
      "execution_count": 7,
      "metadata": {},
      "outputs": [
        {
          "name": "stdout",
          "output_type": "stream",
          "text": [
            "ACC\tSn\tSp\tMCC\tAUC\n",
            "[0.97333333 1.         0.96       0.96       0.98      ]\n",
            "ACC\tSn\tSp\tMCC\tAUC\n",
            "[0.96 0.98 0.96 0.94 0.97]\n",
            "ACC\tSn\tSp\tMCC\tAUC\n",
            "[0.97333333 1.         0.96       0.96       1.        ]\n",
            "ACC\tSn\tSp\tMCC\tAUC\n",
            "[0.72666667 0.68       0.82       0.5        0.98      ]\n"
          ]
        },
        {
          "data": {
            "image/png": "[encoded data removed]",
            "text/plain": [
              "<Figure size 640x480 with 1 Axes>"
            ]
          },
          "metadata": {},
          "output_type": "display_data"
        }
      ],
      "source": [
        "from sklearn.metrics import roc_curve, auc\n",
        "\n",
        "\n",
        "with warnings.catch_warnings():\n",
        "    warnings.simplefilter(\"ignore\")\n",
        "    for model_name, model in models.items():\n",
        "        tprs, aucs, mean_fpr = [], [], np.linspace(0, 1)\n",
        "        fsm=RFE(estimator=model,n_features_to_select=20,step=200)\n",
        "        res2,scores = do_cross_validation_with_feature_selection(X, y,model=model, num_folds=num_folds,\n",
        "                                                              fs_model=fsm, n_runs=num_runs)\n",
        "        print('ACC\\tSn\\tSp\\tMCC\\tAUC')\n",
        "        print(res2['metrics'])\n",
        "        #print(res2)\n",
        "        fpr = res2['fpr']\n",
        "        tpr = res2['tpr']\n",
        "        roc_auc = auc(fpr, tpr)\n",
        "        aucs.append(roc_auc)\n",
        "        tprs.append(np.interp(mean_fpr, fpr, tpr))\n",
        "        tprs[-1][0] = 0.0\n",
        "        \n",
        "        mean_tpr = np.mean(tprs, axis=0)\n",
        "        mean_tpr[-1] = 1.0\n",
        "        mean_auc = np.mean(aucs)\n",
        "        plt.plot(mean_fpr, mean_tpr, label=f'{model_name} (AUC = {mean_auc:.2f})')\n",
        "        plt.plot([0, 1], [0, 1], linestyle='--', color='gray')\n",
        "    plt.xlabel('False Positive Rate')\n",
        "    plt.ylabel('True Positive Rate')\n",
        "    plt.title('AUC-ROC Comparison of Models')\n",
        "    plt.legend()\n",
        "    plt.show()\n"
      ]
    },
    {
      "cell_type": "code",
      "execution_count": 10,
      "metadata": {},
      "outputs": [
        {
          "name": "stdout",
          "output_type": "stream",
          "text": [
            "ACC\tSn\tSp\tMCC\tAUC\n",
            "[0.79333333 0.8        0.8        0.61237604 0.93      ]\n"
          ]
        }
      ],
      "source": [
        "with warnings.catch_warnings():\n",
        "    warnings.simplefilter(\"ignore\")\n",
        "\n",
        "    res2, scores = do_cross_validation_with_feature_selection(X, y,model=model, num_folds=num_folds,\n",
        "                                                              fs_model=fsm, n_runs=num_runs)\n",
        "    print('ACC\\tSn\\tSp\\tMCC\\tAUC')\n",
        "    print(res2['metrics'])\n",
        "    #print(scores)\n",
        "\n",
        "    dict = {'feature': names, 'score': scores}\n",
        "    df_score = pd.DataFrame(dict, columns=['feature', 'score'],index=None)\n",
        "    df_score[df_score['score']>0].sort_values(by='score',ascending=False)\n"
      ]
    },
    {
      "cell_type": "code",
      "execution_count": 8,
      "metadata": {},
      "outputs": [
        {
          "name": "stdout",
          "output_type": "stream",
          "text": [
            "\n",
            "Top 20 Genes based on combined score:\n",
            "\n",
            " 1. Gene_107987087 — Score: 1.9081\n",
            " 2. Gene_9910 — Score: 1.8291\n",
            " 3. Gene_771 — Score: 1.7403\n",
            " 4. Gene_344758 — Score: 1.6963\n",
            " 5. Gene_51555 — Score: 1.6949\n",
            " 6. Gene_80036 — Score: 1.6691\n",
            " 7. Gene_481 — Score: 1.6636\n",
            " 8. Gene_6570 — Score: 1.6572\n",
            " 9. Gene_107984616 — Score: 1.6432\n",
            "10. Gene_4644 — Score: 1.6387\n",
            "11. Gene_284716 — Score: 1.6371\n",
            "12. Gene_105378941 — Score: 1.6312\n",
            "13. Gene_114800 — Score: 1.6295\n",
            "14. Gene_160760 — Score: 1.6170\n",
            "15. Gene_105374898 — Score: 1.6169\n",
            "16. Gene_1285 — Score: 1.5696\n",
            "17. Gene_1191 — Score: 1.5633\n",
            "18. Gene_253782 — Score: 1.5621\n",
            "19. Gene_283514 — Score: 1.5604\n",
            "20. Gene_83698 — Score: 1.5398\n"
          ]
        }
      ],
      "source": [
        "from sklearn.linear_model import SGDClassifier, LogisticRegression\n",
        "from sklearn.preprocessing import MinMaxScaler\n",
        "import numpy as np\n",
        "\n",
        "# Assume you already have these from before\n",
        "# df = your dataframe with gene expression (samples x genes)\n",
        "# y = label vector (same length as number of samples)\n",
        "# names = list of gene names (column names of df)\n",
        "# X = df.values (gene expression matrix)\n",
        "\n",
        "# === 1. Train both models ===\n",
        "sgd = SGDClassifier(random_state=42, max_iter=1000, tol=1e-3)\n",
        "log = LogisticRegression(random_state=42, max_iter=1000)\n",
        "\n",
        "sgd.fit(X, y)\n",
        "log.fit(X, y)\n",
        "\n",
        "# === 2. Get absolute coefficient scores for genes ===\n",
        "sgd_scores = np.abs(sgd.coef_).flatten()\n",
        "log_scores = np.abs(log.coef_).flatten()\n",
        "\n",
        "# === 3. Normalize both scores between 0 and 1 ===\n",
        "scaler = MinMaxScaler()\n",
        "sgd_norm = scaler.fit_transform(sgd_scores.reshape(-1, 1)).flatten()\n",
        "log_norm = scaler.fit_transform(log_scores.reshape(-1, 1)).flatten()\n",
        "\n",
        "# === 4. Combine scores ===\n",
        "combined_score = sgd_norm + log_norm\n",
        "\n",
        "# === 5. Rank genes ===\n",
        "top_indices = np.argsort(combined_score)[::-1]  # descending order\n",
        "top_genes = [names[i] for i in top_indices]\n",
        "top_scores = [combined_score[i] for i in top_indices]\n",
        "\n",
        "# === 6. Display top N genes ===\n",
        "N = 20\n",
        "print(f\"\\nTop {N} Genes based on combined score:\\n\")\n",
        "for i in range(N):\n",
        "    print(f\"{i+1:2d}. {top_genes[i]} — Score: {top_scores[i]:.4f}\")\n"
      ]
    },
    {
      "cell_type": "markdown",
      "metadata": {},
      "source": []
    }
  ],
  "metadata": {
    "colab": {
      "provenance": []
    },
    "kernelspec": {
      "display_name": "base",
      "language": "python",
      "name": "python3"
    },
    "language_info": {
      "codemirror_mode": {
        "name": "ipython",
        "version": 3
      },
      "file_extension": ".py",
      "mimetype": "text/x-python",
      "name": "python",
      "nbconvert_exporter": "python",
      "pygments_lexer": "ipython3",
      "version": "3.11.7"
    }
  },
  "nbformat": 4,
  "nbformat_minor": 0
}
