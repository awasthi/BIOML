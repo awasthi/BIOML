{
  "cells": [
    {
      "cell_type": "markdown",
      "metadata": {
        "id": "4gsxYQvN5_PM"
      },
      "source": [
        "# Using Genex to identify marker genes"
      ]
    },
    {
      "cell_type": "code",
      "execution_count": 10,
      "metadata": {
        "id": "b1FLb07a6MAJ"
      },
      "outputs": [],
      "source": [
        "#from google.colab import drive\n",
        "#drive.mount('/content/drive')\n"
      ]
    },
    {
      "cell_type": "code",
      "execution_count": 11,
      "metadata": {
        "id": "a4rDoEtU6i7w"
      },
      "outputs": [],
      "source": [
        "#import os\n",
        "#os.chdir(\"/content/drive/My Drive/BIOML/HIMANI\")"
      ]
    },
    {
      "cell_type": "code",
      "execution_count": 12,
      "metadata": {
        "id": "2TUWo0L15_PR"
      },
      "outputs": [],
      "source": [
        "import numpy as np\n",
        "import pandas as pd\n",
        "from scipy import stats\n",
        "\n",
        "from sklearn.ensemble import RandomForestClassifier\n",
        "from sklearn.linear_model import SGDClassifier, LogisticRegression,RidgeClassifier\n",
        "from xgboost.sklearn import XGBClassifier\n",
        "from sklearn.preprocessing import MinMaxScaler\n",
        "from sklearn.svm import LinearSVC, SVC\n",
        "from genex.filters.embedded import EmbeddedFilter\n",
        "from genex.filters.mrmr import MRMRP\n",
        "from genex.utils.help_functions import model_based_relevance, auc_relevance, load_DEGs\n",
        "from sklearn.feature_selection import RFE,RFECV, SelectKBest, f_classif,SelectKBest, mutual_info_classif,chi2\n",
        "from genex.eval.evaluate import do_train_test\n",
        "from genex.eval.cross_validation import  do_cross_validation_with_feature_selection,do_cross_validation\n",
        "\n",
        "%matplotlib inline\n",
        "import matplotlib.pyplot as plt\n",
        "#%matplotlib inline\n",
        "\n",
        "#from matplotlib.pyplot import plt\n",
        "import seaborn as sns\n",
        "import warnings\n",
        "\n",
        "# Comment these lines if you are not using Mac OS\n",
        "import matplotlib as mpl\n",
        "#mpl.use('MacOSX')\n",
        "import os\n",
        "os.environ['KMP_DUPLICATE_LIB_OK']='True'\n",
        "\n",
        "# Set random seed\n",
        "seed = 7\n",
        "np.random.seed(seed)"
      ]
    },
    {
      "cell_type": "markdown",
      "metadata": {
        "id": "3gmMJjVA5_Pc"
      },
      "source": [
        "## Inputs and parameters"
      ]
    },
    {
      "cell_type": "code",
      "execution_count": 13,
      "metadata": {
        "id": "d8bXgPAu5_Pe"
      },
      "outputs": [],
      "source": [
        "# ========== INPUTS ==========\n",
        "\n",
        "mydata = 'GSE135036_norm'\n",
        "\n",
        "\n",
        "data_file = './data/'+ mydata +'.csv'\n",
        "\n",
        "deg_lf_file = './data/'+ mydata +'_DEGS.csv'\n",
        "degs_file = './data/'+ mydata +'_DEGS.txt'   # If None, all genes will be considered.\n",
        "out_file = './results/'+ mydata +'/fs_scores.csv'\n",
        "\n",
        "is_save_results = True\n",
        "\n",
        "# data pre-processing\n",
        "is_normalize_samples = False\n",
        "is_normalize_columns = True\n",
        "norm_filter = MinMaxScaler()\n",
        "\n",
        "# experiment\n",
        "num_folds = 5 #2\n",
        "num_runs = 5  #2\n",
        "label = 'disease'\n",
        "\n",
        "# feature selection\n",
        "# num_features = 10 #20\n",
        "# fsm = MRMRP(relevance_func= auc_relevance, redundancy_func=stats.pearsonr, num_features=num_features)\n",
        "\n",
        "models = {\n",
        "    \"LinearSVC\": LinearSVC(),\n",
        "    \"RidgeClassifier\" : RidgeClassifier(alpha=1.0, max_iter=1000, solver='auto', tol=1e-3),\n",
        "    \"LogisticRegression\": LogisticRegression(max_iter=1000),\n",
        "    \"SGDClassifier\" : SGDClassifier(loss=\"log_loss\", penalty=\"l2\", random_state=seed,learning_rate='optimal')\n",
        "}\n",
        "\n",
        "\n",
        "top_markers_to_viz = 10    # set to zero to visualize all potential markers. was 10"
      ]
    },
    {
      "cell_type": "code",
      "execution_count": 14,
      "metadata": {},
      "outputs": [
        {
          "name": "stdout",
          "output_type": "stream",
          "text": [
            "No DEGs provided or file not found. Pipeline will consider all genes.\n"
          ]
        }
      ],
      "source": [
        "if degs_file is not None and os.path.exists(degs_file):\n",
        "    DEGs = load_DEGs(degs_file)\n",
        "    # Keep only genes that exist in the dataframe columns\n",
        "    DEGs = [gene for gene in DEGs if gene in df.columns]\n",
        "    lenDEGs = len(DEGs)\n",
        "    print(f\"{lenDEGs} DEGs loaded and matched!\")\n",
        "else:\n",
        "    lenDEGs = 0\n",
        "    print(\"No DEGs provided or file not found. Pipeline will consider all genes.\")\n",
        "\n",
        "# def load_DEGs(path): if oen from simple text file. this will clean blanck space and blank lines\n",
        "#     with open(path, 'r') as f:\n",
        "#         return [line.strip() for line in f if line.strip()]\n"
      ]
    },
    {
      "cell_type": "code",
      "execution_count": 15,
      "metadata": {
        "colab": {
          "base_uri": "https://localhost:8080/",
          "height": 273
        },
        "id": "Wtu58vkD5_Pj",
        "outputId": "56986672-43ea-4195-8945-1fae45ae9556"
      },
      "outputs": [
        {
          "name": "stdout",
          "output_type": "stream",
          "text": [
            "Shape of ./data/GSE135036_norm.csv is (36, 23095)\n"
          ]
        },
        {
          "data": {
            "text/html": [
              "<div>\n",
              "<style scoped>\n",
              "    .dataframe tbody tr th:only-of-type {\n",
              "        vertical-align: middle;\n",
              "    }\n",
              "\n",
              "    .dataframe tbody tr th {\n",
              "        vertical-align: top;\n",
              "    }\n",
              "\n",
              "    .dataframe thead th {\n",
              "        text-align: right;\n",
              "    }\n",
              "</style>\n",
              "<table border=\"1\" class=\"dataframe\">\n",
              "  <thead>\n",
              "    <tr style=\"text-align: right;\">\n",
              "      <th>GeneId</th>\n",
              "      <th>Gene_100287102</th>\n",
              "      <th>Gene_653635</th>\n",
              "      <th>Gene_102466751</th>\n",
              "      <th>Gene_100996442</th>\n",
              "      <th>Gene_729737</th>\n",
              "      <th>Gene_102725121</th>\n",
              "      <th>Gene_102723897</th>\n",
              "      <th>Gene_112268260</th>\n",
              "      <th>Gene_100132287</th>\n",
              "      <th>Gene_113219467</th>\n",
              "      <th>...</th>\n",
              "      <th>Gene_4538</th>\n",
              "      <th>Gene_4564</th>\n",
              "      <th>Gene_4575</th>\n",
              "      <th>Gene_4568</th>\n",
              "      <th>Gene_4540</th>\n",
              "      <th>Gene_4541</th>\n",
              "      <th>Gene_4556</th>\n",
              "      <th>Gene_4519</th>\n",
              "      <th>Gene_4576</th>\n",
              "      <th>Gene_4571</th>\n",
              "    </tr>\n",
              "  </thead>\n",
              "  <tbody>\n",
              "    <tr>\n",
              "      <th>GSM3984151</th>\n",
              "      <td>1.164283</td>\n",
              "      <td>2.074986</td>\n",
              "      <td>1.091011</td>\n",
              "      <td>2.062382</td>\n",
              "      <td>1.988187</td>\n",
              "      <td>1.196750</td>\n",
              "      <td>2.079107</td>\n",
              "      <td>1.394380</td>\n",
              "      <td>1.922824</td>\n",
              "      <td>4.133713</td>\n",
              "      <td>...</td>\n",
              "      <td>5.385831</td>\n",
              "      <td>2.752281</td>\n",
              "      <td>2.810068</td>\n",
              "      <td>2.742598</td>\n",
              "      <td>5.140314</td>\n",
              "      <td>4.598907</td>\n",
              "      <td>3.363675</td>\n",
              "      <td>5.053691</td>\n",
              "      <td>2.477336</td>\n",
              "      <td>2.384458</td>\n",
              "    </tr>\n",
              "    <tr>\n",
              "      <th>GSM3984152</th>\n",
              "      <td>0.770107</td>\n",
              "      <td>1.986062</td>\n",
              "      <td>0.894639</td>\n",
              "      <td>1.949477</td>\n",
              "      <td>2.051111</td>\n",
              "      <td>0.691250</td>\n",
              "      <td>2.039634</td>\n",
              "      <td>1.714789</td>\n",
              "      <td>1.954223</td>\n",
              "      <td>4.298253</td>\n",
              "      <td>...</td>\n",
              "      <td>5.469891</td>\n",
              "      <td>2.620779</td>\n",
              "      <td>2.598879</td>\n",
              "      <td>2.555021</td>\n",
              "      <td>5.260110</td>\n",
              "      <td>4.695354</td>\n",
              "      <td>3.098563</td>\n",
              "      <td>5.054719</td>\n",
              "      <td>2.223382</td>\n",
              "      <td>2.015727</td>\n",
              "    </tr>\n",
              "    <tr>\n",
              "      <th>GSM3984153</th>\n",
              "      <td>1.123961</td>\n",
              "      <td>2.309641</td>\n",
              "      <td>1.123961</td>\n",
              "      <td>2.040126</td>\n",
              "      <td>2.238665</td>\n",
              "      <td>1.051260</td>\n",
              "      <td>2.341206</td>\n",
              "      <td>1.590344</td>\n",
              "      <td>2.071447</td>\n",
              "      <td>4.196695</td>\n",
              "      <td>...</td>\n",
              "      <td>5.444871</td>\n",
              "      <td>2.425774</td>\n",
              "      <td>2.422420</td>\n",
              "      <td>2.396404</td>\n",
              "      <td>5.185367</td>\n",
              "      <td>4.677519</td>\n",
              "      <td>3.337787</td>\n",
              "      <td>4.996318</td>\n",
              "      <td>2.183956</td>\n",
              "      <td>2.175121</td>\n",
              "    </tr>\n",
              "    <tr>\n",
              "      <th>GSM3984154</th>\n",
              "      <td>1.252067</td>\n",
              "      <td>2.432780</td>\n",
              "      <td>1.275538</td>\n",
              "      <td>2.072181</td>\n",
              "      <td>2.501766</td>\n",
              "      <td>1.428095</td>\n",
              "      <td>2.503121</td>\n",
              "      <td>1.394681</td>\n",
              "      <td>2.279924</td>\n",
              "      <td>4.346213</td>\n",
              "      <td>...</td>\n",
              "      <td>5.639551</td>\n",
              "      <td>3.019037</td>\n",
              "      <td>3.048917</td>\n",
              "      <td>3.042713</td>\n",
              "      <td>5.482310</td>\n",
              "      <td>4.940787</td>\n",
              "      <td>3.436097</td>\n",
              "      <td>5.372309</td>\n",
              "      <td>2.649825</td>\n",
              "      <td>2.569486</td>\n",
              "    </tr>\n",
              "    <tr>\n",
              "      <th>GSM3984155</th>\n",
              "      <td>0.946232</td>\n",
              "      <td>2.265184</td>\n",
              "      <td>0.895206</td>\n",
              "      <td>2.016369</td>\n",
              "      <td>2.267488</td>\n",
              "      <td>0.946232</td>\n",
              "      <td>2.325474</td>\n",
              "      <td>1.468403</td>\n",
              "      <td>2.124584</td>\n",
              "      <td>3.997359</td>\n",
              "      <td>...</td>\n",
              "      <td>5.229219</td>\n",
              "      <td>2.451907</td>\n",
              "      <td>2.404313</td>\n",
              "      <td>2.409314</td>\n",
              "      <td>5.017981</td>\n",
              "      <td>4.453915</td>\n",
              "      <td>2.996596</td>\n",
              "      <td>4.810113</td>\n",
              "      <td>2.047962</td>\n",
              "      <td>1.920504</td>\n",
              "    </tr>\n",
              "  </tbody>\n",
              "</table>\n",
              "<p>5 rows × 23094 columns</p>\n",
              "</div>"
            ],
            "text/plain": [
              "GeneId      Gene_100287102  Gene_653635  Gene_102466751  Gene_100996442  \\\n",
              "GSM3984151        1.164283     2.074986        1.091011        2.062382   \n",
              "GSM3984152        0.770107     1.986062        0.894639        1.949477   \n",
              "GSM3984153        1.123961     2.309641        1.123961        2.040126   \n",
              "GSM3984154        1.252067     2.432780        1.275538        2.072181   \n",
              "GSM3984155        0.946232     2.265184        0.895206        2.016369   \n",
              "\n",
              "GeneId      Gene_729737  Gene_102725121  Gene_102723897  Gene_112268260  \\\n",
              "GSM3984151     1.988187        1.196750        2.079107        1.394380   \n",
              "GSM3984152     2.051111        0.691250        2.039634        1.714789   \n",
              "GSM3984153     2.238665        1.051260        2.341206        1.590344   \n",
              "GSM3984154     2.501766        1.428095        2.503121        1.394681   \n",
              "GSM3984155     2.267488        0.946232        2.325474        1.468403   \n",
              "\n",
              "GeneId      Gene_100132287  Gene_113219467  ...  Gene_4538  Gene_4564  \\\n",
              "GSM3984151        1.922824        4.133713  ...   5.385831   2.752281   \n",
              "GSM3984152        1.954223        4.298253  ...   5.469891   2.620779   \n",
              "GSM3984153        2.071447        4.196695  ...   5.444871   2.425774   \n",
              "GSM3984154        2.279924        4.346213  ...   5.639551   3.019037   \n",
              "GSM3984155        2.124584        3.997359  ...   5.229219   2.451907   \n",
              "\n",
              "GeneId      Gene_4575  Gene_4568  Gene_4540  Gene_4541  Gene_4556  Gene_4519  \\\n",
              "GSM3984151   2.810068   2.742598   5.140314   4.598907   3.363675   5.053691   \n",
              "GSM3984152   2.598879   2.555021   5.260110   4.695354   3.098563   5.054719   \n",
              "GSM3984153   2.422420   2.396404   5.185367   4.677519   3.337787   4.996318   \n",
              "GSM3984154   3.048917   3.042713   5.482310   4.940787   3.436097   5.372309   \n",
              "GSM3984155   2.404313   2.409314   5.017981   4.453915   2.996596   4.810113   \n",
              "\n",
              "GeneId      Gene_4576  Gene_4571  \n",
              "GSM3984151   2.477336   2.384458  \n",
              "GSM3984152   2.223382   2.015727  \n",
              "GSM3984153   2.183956   2.175121  \n",
              "GSM3984154   2.649825   2.569486  \n",
              "GSM3984155   2.047962   1.920504  \n",
              "\n",
              "[5 rows x 23094 columns]"
            ]
          },
          "execution_count": 15,
          "metadata": {},
          "output_type": "execute_result"
        }
      ],
      "source": [
        "df = pd.read_csv(data_file,low_memory=False)\n",
        "df=df.set_index('GeneId')\n",
        "df = df.transpose()\n",
        "\n",
        "#df2 = pd.read_csv(deg_lf_file)\n",
        "\n",
        "\n",
        "print('Shape of {0} is {1}'.format(data_file, df.shape))\n",
        "theData = df\n",
        "y = df[label]\n",
        "df =df.drop([label],axis=1)\n",
        "df.head()"
      ]
    },
    {
      "cell_type": "code",
      "execution_count": 16,
      "metadata": {},
      "outputs": [
        {
          "name": "stdout",
          "output_type": "stream",
          "text": [
            "Shape of ./data/GSE135036_norm.csv is (36, 23095)\n",
            "Shape (Within DEGs) of ./data/GSE135036_norm.csv is (36, 23094)\n"
          ]
        }
      ],
      "source": [
        "# Load and process data\n",
        "df = pd.read_csv(data_file, low_memory=False)\n",
        "df = df.set_index('GeneId').transpose()\n",
        "print(f\"Shape of {data_file} is {df.shape}\")\n",
        "\n",
        "y = df[label]\n",
        "\n",
        "if lenDEGs > 0:\n",
        "    df = df[DEGs]\n",
        "else:\n",
        "    df = df.drop([label], axis=1)\n",
        "\n",
        "print(f\"Shape (Within DEGs) of {data_file} is {df.shape}\")\n",
        "names = df.columns\n",
        "X = df.values\n"
      ]
    },
    {
      "cell_type": "code",
      "execution_count": 17,
      "metadata": {
        "colab": {
          "base_uri": "https://localhost:8080/"
        },
        "id": "9HmmiBYP5_Pl",
        "outputId": "c17d4c93-f15e-4fae-cc2f-2915d0b15cfc"
      },
      "outputs": [
        {
          "name": "stdout",
          "output_type": "stream",
          "text": [
            "Genes Normalized..\n"
          ]
        }
      ],
      "source": [
        "# Normalize per sample?\n",
        "if is_normalize_samples:\n",
        "    X = norm_filter.fit_transform(X.T, y).T\n",
        "    print('Samples Normalized..')\n",
        "# Normalize per sample\n",
        "elif is_normalize_columns:\n",
        "    X = norm_filter.fit_transform(X, y)\n",
        "    print('Genes Normalized..')\n",
        "else:\n",
        "    print('No normalization used..')"
      ]
    },
    {
      "cell_type": "code",
      "execution_count": 18,
      "metadata": {},
      "outputs": [
        {
          "name": "stdout",
          "output_type": "stream",
          "text": [
            "ACC\tSn\tSp\tMCC\tAUC\n",
            "[0.73785714 0.814      0.58       0.40591731 0.697     ]\n",
            "ACC\tSn\tSp\tMCC\tAUC\n",
            "[0.73357143 0.774      0.64       0.42417437 0.707     ]\n",
            "ACC\tSn\tSp\tMCC\tAUC\n",
            "[0.82      0.91      0.64      0.5836708 0.872    ]\n",
            "ACC\tSn\tSp\tMCC\tAUC\n",
            "[0.75571429 0.822      0.62666667 0.46018159 0.85733333]\n"
          ]
        },
        {
          "data": {
            "image/png": "[encoded data removed]",
            "text/plain": [
              "<Figure size 640x480 with 1 Axes>"
            ]
          },
          "metadata": {},
          "output_type": "display_data"
        }
      ],
      "source": [
        "from sklearn.metrics import roc_curve, auc\n",
        "\n",
        "\n",
        "with warnings.catch_warnings():\n",
        "    warnings.simplefilter(\"ignore\")\n",
        "    for model_name, model in models.items():\n",
        "        tprs, aucs, mean_fpr = [], [], np.linspace(0, 1)\n",
        "        fsm=RFE(estimator=model,n_features_to_select=20,step=200)\n",
        "        res2,scores = do_cross_validation_with_feature_selection(X, y,model=model, num_folds=num_folds,\n",
        "                                                              fs_model=fsm, n_runs=num_runs)\n",
        "        print('ACC\\tSn\\tSp\\tMCC\\tAUC')\n",
        "        print(res2['metrics'])\n",
        "        #print(res2)\n",
        "        fpr = res2['fpr']\n",
        "        tpr = res2['tpr']\n",
        "        roc_auc = auc(fpr, tpr)\n",
        "        aucs.append(roc_auc)\n",
        "        tprs.append(np.interp(mean_fpr, fpr, tpr))\n",
        "        tprs[-1][0] = 0.0\n",
        "        \n",
        "        mean_tpr = np.mean(tprs, axis=0)\n",
        "        mean_tpr[-1] = 1.0\n",
        "        mean_auc = np.mean(aucs)\n",
        "        plt.plot(mean_fpr, mean_tpr, label=f'{model_name} (AUC = {mean_auc:.2f})')\n",
        "        plt.plot([0, 1], [0, 1], linestyle='--', color='gray')\n",
        "    plt.xlabel('False Positive Rate')\n",
        "    plt.ylabel('True Positive Rate')\n",
        "    plt.title('AUC-ROC Comparison of Models')\n",
        "    plt.legend()\n",
        "    plt.show()\n"
      ]
    },
    {
      "cell_type": "code",
      "execution_count": 19,
      "metadata": {},
      "outputs": [
        {
          "name": "stdout",
          "output_type": "stream",
          "text": [
            "ACC\tSn\tSp\tMCC\tAUC\n",
            "[0.75571429 0.822      0.62666667 0.46018159 0.85733333]\n"
          ]
        }
      ],
      "source": [
        "with warnings.catch_warnings():\n",
        "    warnings.simplefilter(\"ignore\")\n",
        "\n",
        "    res2, scores = do_cross_validation_with_feature_selection(X, y,model=model, num_folds=num_folds,\n",
        "                                                              fs_model=fsm, n_runs=num_runs)\n",
        "    print('ACC\\tSn\\tSp\\tMCC\\tAUC')\n",
        "    print(res2['metrics'])\n",
        "    #print(scores)\n",
        "\n",
        "    dict = {'feature': names, 'score': scores}\n",
        "    df_score = pd.DataFrame(dict, columns=['feature', 'score'],index=None)\n",
        "    df_score[df_score['score']>0].sort_values(by='score',ascending=False)\n"
      ]
    },
    {
      "cell_type": "code",
      "execution_count": 21,
      "metadata": {},
      "outputs": [
        {
          "name": "stdout",
          "output_type": "stream",
          "text": [
            "\n",
            "Top 20 Genes based on combined score:\n",
            "\n",
            " 1. Gene_115811 — Score: 1.8767\n",
            " 2. Gene_85320 — Score: 1.7688\n",
            " 3. Gene_105371648 — Score: 1.7257\n",
            " 4. Gene_441355 — Score: 1.6575\n",
            " 5. Gene_8972 — Score: 1.6478\n",
            " 6. Gene_101928563 — Score: 1.6319\n",
            " 7. Gene_105374317 — Score: 1.6105\n",
            " 8. Gene_5031 — Score: 1.5924\n",
            " 9. Gene_6672 — Score: 1.5823\n",
            "10. Gene_642946 — Score: 1.5791\n",
            "11. Gene_7035 — Score: 1.5691\n",
            "12. Gene_1116 — Score: 1.5598\n",
            "13. Gene_654463 — Score: 1.5440\n",
            "14. Gene_401172 — Score: 1.5419\n",
            "15. Gene_105374320 — Score: 1.5415\n",
            "16. Gene_105379869 — Score: 1.5328\n",
            "17. Gene_4233 — Score: 1.5324\n",
            "18. Gene_9576 — Score: 1.5241\n",
            "19. Gene_10477 — Score: 1.5183\n",
            "20. Gene_152573 — Score: 1.5120\n"
          ]
        }
      ],
      "source": [
        "from sklearn.linear_model import SGDClassifier, LogisticRegression\n",
        "from sklearn.preprocessing import MinMaxScaler\n",
        "import numpy as np\n",
        "\n",
        "# Assume you already have these from before\n",
        "# df = your dataframe with gene expression (samples x genes)\n",
        "# y = label vector (same length as number of samples)\n",
        "# names = list of gene names (column names of df)\n",
        "# X = df.values (gene expression matrix)\n",
        "\n",
        "# === 1. Train both models ===\n",
        "sgd = SGDClassifier(random_state=42, max_iter=1000, tol=1e-3)\n",
        "log = LogisticRegression(random_state=42, max_iter=1000)\n",
        "\n",
        "sgd.fit(X, y)\n",
        "log.fit(X, y)\n",
        "\n",
        "# === 2. Get absolute coefficient scores for genes ===\n",
        "sgd_scores = np.abs(sgd.coef_).flatten()\n",
        "log_scores = np.abs(log.coef_).flatten()\n",
        "\n",
        "# === 3. Normalize both scores between 0 and 1 ===\n",
        "scaler = MinMaxScaler()\n",
        "sgd_norm = scaler.fit_transform(sgd_scores.reshape(-1, 1)).flatten()\n",
        "log_norm = scaler.fit_transform(log_scores.reshape(-1, 1)).flatten()\n",
        "\n",
        "# === 4. Combine scores ===\n",
        "combined_score = sgd_norm + log_norm\n",
        "\n",
        "# === 5. Rank genes ===\n",
        "top_indices = np.argsort(combined_score)[::-1]  # descending order\n",
        "top_genes = [names[i] for i in top_indices]\n",
        "top_scores = [combined_score[i] for i in top_indices]\n",
        "\n",
        "# === 6. Display top N genes ===\n",
        "N = 20\n",
        "print(f\"\\nTop {N} Genes based on combined score:\\n\")\n",
        "for i in range(N):\n",
        "    print(f\"{i+1:2d}. {top_genes[i]} — Score: {top_scores[i]:.4f}\")\n"
      ]
    },
    {
      "cell_type": "markdown",
      "metadata": {},
      "source": [
        "Based on this, I've mapped and provided information on several of these genes and their potential roles in Parkinson's disease (PD):​\n",
        "\n",
        "Gene ID 115811: This corresponds to the IQCD gene. IQCD is located in the ciliary basal body, but its direct association with PD is not well-established. ​\n",
        "Alliance of Genome Resources\n",
        "\n",
        "Gene ID 85320: This corresponds to the ABCC11 gene, which encodes a member of the ATP-binding cassette (ABC) transporter family. While ABC transporters are involved in various cellular processes, a direct link between ABCC11 and PD has not been clearly defined. ​\n",
        "NCBI\n",
        "\n",
        "Gene ID 5031: This corresponds to the PDPK1 gene. PDPK1 is involved in cell survival pathways, and its dysregulation may contribute to neuronal death in PD.​\n",
        "\n",
        "Gene ID 6672: This corresponds to the SPP1 gene, also known as osteopontin. SPP1 is involved in immune responses and has been implicated in neuroinflammatory processes associated with PD.​\n",
        "\n",
        "Gene ID 7035: This corresponds to the TNF gene, which encodes tumor necrosis factor-alpha. TNF-alpha is a pro-inflammatory cytokine that has been associated with neuroinflammation in PD.​\n",
        "\n",
        "Gene ID 1116: This corresponds to the CHGA gene, which encodes chromogranin A. CHGA is involved in the formation of secretory granules and has been studied in the context of neurodegenerative diseases, including PD.​\n",
        "\n",
        "Gene ID 4233: This corresponds to the MMP9 gene, which encodes matrix metallopeptidase 9. MMP9 is involved in extracellular matrix remodeling and has been implicated in blood-brain barrier disruption in PD.​\n",
        "\n",
        "Gene ID 9576: This corresponds to the GABBR2 gene, which encodes the GABA B receptor subunit 2. GABBR2 is involved in inhibitory neurotransmission, and alterations in GABAergic signaling have been observed in PD.​\n",
        "\n",
        "Gene ID 10477: This corresponds to the ATP5B gene, which encodes a subunit of ATP synthase. ATP5B is essential for mitochondrial ATP production, and mitochondrial dysfunction is a hallmark of PD.​\n",
        "\n",
        "Gene ID 152573: This corresponds to the FPR1 gene, which encodes formyl peptide receptor 1. FPR1 is involved in immune responses, and its downregulation may impact neuronal proliferation and differentiation in PD."
      ]
    }
  ],
  "metadata": {
    "colab": {
      "provenance": []
    },
    "kernelspec": {
      "display_name": "base",
      "language": "python",
      "name": "python3"
    },
    "language_info": {
      "codemirror_mode": {
        "name": "ipython",
        "version": 3
      },
      "file_extension": ".py",
      "mimetype": "text/x-python",
      "name": "python",
      "nbconvert_exporter": "python",
      "pygments_lexer": "ipython3",
      "version": "3.11.7"
    }
  },
  "nbformat": 4,
  "nbformat_minor": 0
}
