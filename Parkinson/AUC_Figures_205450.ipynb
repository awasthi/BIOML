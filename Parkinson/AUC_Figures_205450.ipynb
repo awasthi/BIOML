{
  "cells": [
    {
      "cell_type": "markdown",
      "metadata": {
        "id": "4gsxYQvN5_PM"
      },
      "source": [
        "# Using Genex to identify marker genes"
      ]
    },
    {
      "cell_type": "code",
      "execution_count": 1,
      "metadata": {
        "id": "b1FLb07a6MAJ"
      },
      "outputs": [],
      "source": [
        "#from google.colab import drive\n",
        "#drive.mount('/content/drive')\n"
      ]
    },
    {
      "cell_type": "code",
      "execution_count": 2,
      "metadata": {
        "id": "a4rDoEtU6i7w"
      },
      "outputs": [],
      "source": [
        "#import os\n",
        "#os.chdir(\"/content/drive/My Drive/BIOML/HIMANI\")"
      ]
    },
    {
      "cell_type": "code",
      "execution_count": 1,
      "metadata": {
        "id": "2TUWo0L15_PR"
      },
      "outputs": [],
      "source": [
        "import numpy as np\n",
        "import pandas as pd\n",
        "from scipy import stats\n",
        "\n",
        "from sklearn.ensemble import RandomForestClassifier\n",
        "from sklearn.linear_model import SGDClassifier, LogisticRegression,RidgeClassifier\n",
        "from xgboost.sklearn import XGBClassifier\n",
        "from sklearn.preprocessing import MinMaxScaler\n",
        "from sklearn.svm import LinearSVC, SVC\n",
        "from genex.filters.embedded import EmbeddedFilter\n",
        "from genex.filters.mrmr import MRMRP\n",
        "from genex.utils.help_functions import model_based_relevance, auc_relevance, load_DEGs\n",
        "from sklearn.feature_selection import RFE,RFECV, SelectKBest, f_classif,SelectKBest, mutual_info_classif,chi2\n",
        "from genex.eval.evaluate import do_train_test\n",
        "from genex.eval.cross_validation import  do_cross_validation_with_feature_selection,do_cross_validation\n",
        "\n",
        "%matplotlib inline\n",
        "import matplotlib.pyplot as plt\n",
        "#%matplotlib inline\n",
        "\n",
        "#from matplotlib.pyplot import plt\n",
        "import seaborn as sns\n",
        "import warnings\n",
        "\n",
        "# Comment these lines if you are not using Mac OS\n",
        "import matplotlib as mpl\n",
        "#mpl.use('MacOSX')\n",
        "import os\n",
        "os.environ['KMP_DUPLICATE_LIB_OK']='True'\n",
        "\n",
        "# Set random seed\n",
        "seed = 7\n",
        "np.random.seed(seed)"
      ]
    },
    {
      "cell_type": "markdown",
      "metadata": {
        "id": "3gmMJjVA5_Pc"
      },
      "source": [
        "## Inputs and parameters"
      ]
    },
    {
      "cell_type": "code",
      "execution_count": 2,
      "metadata": {
        "id": "d8bXgPAu5_Pe"
      },
      "outputs": [],
      "source": [
        "# ========== INPUTS ==========\n",
        "\n",
        "mydata = 'GSE205450_norm'\n",
        "\n",
        "\n",
        "data_file = './data/'+ mydata +'.csv'\n",
        "\n",
        "deg_lf_file = './data/'+ mydata +'_DEGS.csv'\n",
        "degs_file = './data/'+ mydata +'_DEGS.txt'   # If None, all genes will be considered.\n",
        "out_file = './results/'+ mydata +'/fs_scores.csv'\n",
        "\n",
        "is_save_results = True\n",
        "\n",
        "# data pre-processing\n",
        "is_normalize_samples = False\n",
        "is_normalize_columns = True\n",
        "norm_filter = MinMaxScaler()\n",
        "\n",
        "# experiment\n",
        "num_folds = 5 #2\n",
        "num_runs = 5  #2\n",
        "label = 'disease'\n",
        "\n",
        "# feature selection\n",
        "# num_features = 10 #20\n",
        "# fsm = MRMRP(relevance_func= auc_relevance, redundancy_func=stats.pearsonr, num_features=num_features)\n",
        "\n",
        "models = {\n",
        "    \"LinearSVC\": LinearSVC(),\n",
        "    \"RidgeClassifier\" : RidgeClassifier(alpha=1.0, max_iter=1000, solver='auto', tol=1e-3),\n",
        "    \"LogisticRegression\": LogisticRegression(max_iter=1000),\n",
        "    \"SGDClassifier\" : SGDClassifier(loss=\"log_loss\", penalty=\"l2\", random_state=seed,learning_rate='optimal')\n",
        "}\n",
        "\n",
        "\n",
        "top_markers_to_viz = 10    # set to zero to visualize all potential markers. was 10"
      ]
    },
    {
      "cell_type": "code",
      "execution_count": 3,
      "metadata": {},
      "outputs": [
        {
          "name": "stdout",
          "output_type": "stream",
          "text": [
            "No DEGs provided or file not found. Pipeline will consider all genes.\n"
          ]
        }
      ],
      "source": [
        "if degs_file is not None and os.path.exists(degs_file):\n",
        "    DEGs = load_DEGs(degs_file)\n",
        "    # Keep only genes that exist in the dataframe columns\n",
        "    DEGs = [gene for gene in DEGs if gene in df.columns]\n",
        "    lenDEGs = len(DEGs)\n",
        "    print(f\"{lenDEGs} DEGs loaded and matched!\")\n",
        "else:\n",
        "    lenDEGs = 0\n",
        "    print(\"No DEGs provided or file not found. Pipeline will consider all genes.\")\n",
        "\n",
        "# def load_DEGs(path): if oen from simple text file. this will clean blanck space and blank lines\n",
        "#     with open(path, 'r') as f:\n",
        "#         return [line.strip() for line in f if line.strip()]\n"
      ]
    },
    {
      "cell_type": "code",
      "execution_count": 4,
      "metadata": {
        "colab": {
          "base_uri": "https://localhost:8080/",
          "height": 273
        },
        "id": "Wtu58vkD5_Pj",
        "outputId": "56986672-43ea-4195-8945-1fae45ae9556"
      },
      "outputs": [
        {
          "name": "stdout",
          "output_type": "stream",
          "text": [
            "Shape of ./data/GSE205450_norm.csv is (119, 20031)\n"
          ]
        },
        {
          "data": {
            "text/html": [
              "<div>\n",
              "<style scoped>\n",
              "    .dataframe tbody tr th:only-of-type {\n",
              "        vertical-align: middle;\n",
              "    }\n",
              "\n",
              "    .dataframe tbody tr th {\n",
              "        vertical-align: top;\n",
              "    }\n",
              "\n",
              "    .dataframe thead th {\n",
              "        text-align: right;\n",
              "    }\n",
              "</style>\n",
              "<table border=\"1\" class=\"dataframe\">\n",
              "  <thead>\n",
              "    <tr style=\"text-align: right;\">\n",
              "      <th>GeneId</th>\n",
              "      <th>Gene_653635</th>\n",
              "      <th>Gene_102466751</th>\n",
              "      <th>Gene_100996442</th>\n",
              "      <th>Gene_729737</th>\n",
              "      <th>Gene_102723897</th>\n",
              "      <th>Gene_112268260</th>\n",
              "      <th>Gene_100132287</th>\n",
              "      <th>Gene_113219467</th>\n",
              "      <th>Gene_81399</th>\n",
              "      <th>Gene_100133331</th>\n",
              "      <th>...</th>\n",
              "      <th>Gene_4538</th>\n",
              "      <th>Gene_4564</th>\n",
              "      <th>Gene_4575</th>\n",
              "      <th>Gene_4568</th>\n",
              "      <th>Gene_4540</th>\n",
              "      <th>Gene_4541</th>\n",
              "      <th>Gene_4556</th>\n",
              "      <th>Gene_4519</th>\n",
              "      <th>Gene_4576</th>\n",
              "      <th>Gene_4571</th>\n",
              "    </tr>\n",
              "  </thead>\n",
              "  <tbody>\n",
              "    <tr>\n",
              "      <th>GSM6212891</th>\n",
              "      <td>2.586407</td>\n",
              "      <td>1.038165</td>\n",
              "      <td>1.609319</td>\n",
              "      <td>1.831133</td>\n",
              "      <td>2.454343</td>\n",
              "      <td>1.345562</td>\n",
              "      <td>2.041803</td>\n",
              "      <td>3.430859</td>\n",
              "      <td>0.561691</td>\n",
              "      <td>2.023151</td>\n",
              "      <td>...</td>\n",
              "      <td>5.835886</td>\n",
              "      <td>2.565051</td>\n",
              "      <td>2.411992</td>\n",
              "      <td>3.046831</td>\n",
              "      <td>5.389623</td>\n",
              "      <td>4.766060</td>\n",
              "      <td>3.601790</td>\n",
              "      <td>5.807207</td>\n",
              "      <td>2.878218</td>\n",
              "      <td>3.779757</td>\n",
              "    </tr>\n",
              "    <tr>\n",
              "      <th>GSM6212892</th>\n",
              "      <td>2.775508</td>\n",
              "      <td>1.556029</td>\n",
              "      <td>1.673392</td>\n",
              "      <td>2.206833</td>\n",
              "      <td>2.611533</td>\n",
              "      <td>1.085040</td>\n",
              "      <td>2.385364</td>\n",
              "      <td>3.437459</td>\n",
              "      <td>0.963135</td>\n",
              "      <td>2.297131</td>\n",
              "      <td>...</td>\n",
              "      <td>5.872814</td>\n",
              "      <td>2.948454</td>\n",
              "      <td>2.854567</td>\n",
              "      <td>3.171706</td>\n",
              "      <td>5.564876</td>\n",
              "      <td>4.944513</td>\n",
              "      <td>3.778258</td>\n",
              "      <td>5.848434</td>\n",
              "      <td>2.913612</td>\n",
              "      <td>3.717861</td>\n",
              "    </tr>\n",
              "    <tr>\n",
              "      <th>GSM6212893</th>\n",
              "      <td>2.611647</td>\n",
              "      <td>1.400944</td>\n",
              "      <td>1.766502</td>\n",
              "      <td>2.193440</td>\n",
              "      <td>2.689758</td>\n",
              "      <td>1.383210</td>\n",
              "      <td>2.074984</td>\n",
              "      <td>3.685273</td>\n",
              "      <td>0.701474</td>\n",
              "      <td>1.985367</td>\n",
              "      <td>...</td>\n",
              "      <td>5.917332</td>\n",
              "      <td>2.865255</td>\n",
              "      <td>2.808624</td>\n",
              "      <td>3.308048</td>\n",
              "      <td>5.651420</td>\n",
              "      <td>5.196392</td>\n",
              "      <td>4.131850</td>\n",
              "      <td>5.737257</td>\n",
              "      <td>2.970673</td>\n",
              "      <td>3.781785</td>\n",
              "    </tr>\n",
              "    <tr>\n",
              "      <th>GSM6212894</th>\n",
              "      <td>2.670708</td>\n",
              "      <td>1.396522</td>\n",
              "      <td>1.540372</td>\n",
              "      <td>2.061289</td>\n",
              "      <td>2.675718</td>\n",
              "      <td>1.238249</td>\n",
              "      <td>2.194432</td>\n",
              "      <td>3.505975</td>\n",
              "      <td>0.935025</td>\n",
              "      <td>2.069413</td>\n",
              "      <td>...</td>\n",
              "      <td>5.704096</td>\n",
              "      <td>2.676713</td>\n",
              "      <td>2.461062</td>\n",
              "      <td>2.933895</td>\n",
              "      <td>5.522470</td>\n",
              "      <td>5.016733</td>\n",
              "      <td>3.969694</td>\n",
              "      <td>5.564379</td>\n",
              "      <td>2.907838</td>\n",
              "      <td>3.749375</td>\n",
              "    </tr>\n",
              "    <tr>\n",
              "      <th>GSM6212895</th>\n",
              "      <td>2.681511</td>\n",
              "      <td>1.118401</td>\n",
              "      <td>1.638184</td>\n",
              "      <td>1.745103</td>\n",
              "      <td>2.777141</td>\n",
              "      <td>1.536165</td>\n",
              "      <td>2.076668</td>\n",
              "      <td>5.231540</td>\n",
              "      <td>1.004347</td>\n",
              "      <td>2.108593</td>\n",
              "      <td>...</td>\n",
              "      <td>6.766259</td>\n",
              "      <td>3.800706</td>\n",
              "      <td>3.729266</td>\n",
              "      <td>3.981681</td>\n",
              "      <td>6.462348</td>\n",
              "      <td>6.013710</td>\n",
              "      <td>4.897511</td>\n",
              "      <td>6.575158</td>\n",
              "      <td>3.827974</td>\n",
              "      <td>4.617696</td>\n",
              "    </tr>\n",
              "  </tbody>\n",
              "</table>\n",
              "<p>5 rows × 20030 columns</p>\n",
              "</div>"
            ],
            "text/plain": [
              "GeneId      Gene_653635  Gene_102466751  Gene_100996442  Gene_729737  \\\n",
              "GSM6212891     2.586407        1.038165        1.609319     1.831133   \n",
              "GSM6212892     2.775508        1.556029        1.673392     2.206833   \n",
              "GSM6212893     2.611647        1.400944        1.766502     2.193440   \n",
              "GSM6212894     2.670708        1.396522        1.540372     2.061289   \n",
              "GSM6212895     2.681511        1.118401        1.638184     1.745103   \n",
              "\n",
              "GeneId      Gene_102723897  Gene_112268260  Gene_100132287  Gene_113219467  \\\n",
              "GSM6212891        2.454343        1.345562        2.041803        3.430859   \n",
              "GSM6212892        2.611533        1.085040        2.385364        3.437459   \n",
              "GSM6212893        2.689758        1.383210        2.074984        3.685273   \n",
              "GSM6212894        2.675718        1.238249        2.194432        3.505975   \n",
              "GSM6212895        2.777141        1.536165        2.076668        5.231540   \n",
              "\n",
              "GeneId      Gene_81399  Gene_100133331  ...  Gene_4538  Gene_4564  Gene_4575  \\\n",
              "GSM6212891    0.561691        2.023151  ...   5.835886   2.565051   2.411992   \n",
              "GSM6212892    0.963135        2.297131  ...   5.872814   2.948454   2.854567   \n",
              "GSM6212893    0.701474        1.985367  ...   5.917332   2.865255   2.808624   \n",
              "GSM6212894    0.935025        2.069413  ...   5.704096   2.676713   2.461062   \n",
              "GSM6212895    1.004347        2.108593  ...   6.766259   3.800706   3.729266   \n",
              "\n",
              "GeneId      Gene_4568  Gene_4540  Gene_4541  Gene_4556  Gene_4519  Gene_4576  \\\n",
              "GSM6212891   3.046831   5.389623   4.766060   3.601790   5.807207   2.878218   \n",
              "GSM6212892   3.171706   5.564876   4.944513   3.778258   5.848434   2.913612   \n",
              "GSM6212893   3.308048   5.651420   5.196392   4.131850   5.737257   2.970673   \n",
              "GSM6212894   2.933895   5.522470   5.016733   3.969694   5.564379   2.907838   \n",
              "GSM6212895   3.981681   6.462348   6.013710   4.897511   6.575158   3.827974   \n",
              "\n",
              "GeneId      Gene_4571  \n",
              "GSM6212891   3.779757  \n",
              "GSM6212892   3.717861  \n",
              "GSM6212893   3.781785  \n",
              "GSM6212894   3.749375  \n",
              "GSM6212895   4.617696  \n",
              "\n",
              "[5 rows x 20030 columns]"
            ]
          },
          "execution_count": 4,
          "metadata": {},
          "output_type": "execute_result"
        }
      ],
      "source": [
        "df = pd.read_csv(data_file,low_memory=False)\n",
        "df=df.set_index('GeneId')\n",
        "df = df.transpose()\n",
        "\n",
        "#df2 = pd.read_csv(deg_lf_file)\n",
        "\n",
        "\n",
        "print('Shape of {0} is {1}'.format(data_file, df.shape))\n",
        "theData = df\n",
        "y = df[label]\n",
        "df =df.drop([label],axis=1)\n",
        "df.head()"
      ]
    },
    {
      "cell_type": "code",
      "execution_count": 5,
      "metadata": {},
      "outputs": [
        {
          "name": "stdout",
          "output_type": "stream",
          "text": [
            "Shape of ./data/GSE205450_norm.csv is (119, 20031)\n",
            "Shape (Within DEGs) of ./data/GSE205450_norm.csv is (119, 20030)\n"
          ]
        }
      ],
      "source": [
        "# Load and process data\n",
        "df = pd.read_csv(data_file, low_memory=False)\n",
        "df = df.set_index('GeneId').transpose()\n",
        "print(f\"Shape of {data_file} is {df.shape}\")\n",
        "\n",
        "y = df[label]\n",
        "\n",
        "if lenDEGs > 0:\n",
        "    df = df[DEGs]\n",
        "else:\n",
        "    df = df.drop([label], axis=1)\n",
        "\n",
        "print(f\"Shape (Within DEGs) of {data_file} is {df.shape}\")\n",
        "names = df.columns\n",
        "X = df.values\n"
      ]
    },
    {
      "cell_type": "code",
      "execution_count": 6,
      "metadata": {
        "colab": {
          "base_uri": "https://localhost:8080/"
        },
        "id": "9HmmiBYP5_Pl",
        "outputId": "c17d4c93-f15e-4fae-cc2f-2915d0b15cfc"
      },
      "outputs": [
        {
          "name": "stdout",
          "output_type": "stream",
          "text": [
            "Genes Normalized..\n"
          ]
        }
      ],
      "source": [
        "# Normalize per sample?\n",
        "if is_normalize_samples:\n",
        "    X = norm_filter.fit_transform(X.T, y).T\n",
        "    print('Samples Normalized..')\n",
        "# Normalize per sample\n",
        "elif is_normalize_columns:\n",
        "    X = norm_filter.fit_transform(X, y)\n",
        "    print('Genes Normalized..')\n",
        "else:\n",
        "    print('No normalization used..')"
      ]
    },
    {
      "cell_type": "code",
      "execution_count": 7,
      "metadata": {},
      "outputs": [
        {
          "name": "stdout",
          "output_type": "stream",
          "text": [
            "ACC\tSn\tSp\tMCC\tAUC\n",
            "[0.80536232 0.78333333 0.82818182 0.62025084 0.80575758]\n",
            "ACC\tSn\tSp\tMCC\tAUC\n",
            "[0.82028986 0.79666667 0.84454545 0.64888874 0.82060606]\n",
            "ACC\tSn\tSp\tMCC\tAUC\n",
            "[0.75949275 0.78       0.73848485 0.53041886 0.83042929]\n",
            "ACC\tSn\tSp\tMCC\tAUC\n",
            "[0.75246377 0.77666667 0.72666667 0.53195881 0.85709596]\n"
          ]
        },
        {
          "data": {
            "image/png": "[encoded data removed]",
            "text/plain": [
              "<Figure size 640x480 with 1 Axes>"
            ]
          },
          "metadata": {},
          "output_type": "display_data"
        }
      ],
      "source": [
        "from sklearn.metrics import roc_curve, auc\n",
        "\n",
        "\n",
        "with warnings.catch_warnings():\n",
        "    warnings.simplefilter(\"ignore\")\n",
        "    for model_name, model in models.items():\n",
        "        tprs, aucs, mean_fpr = [], [], np.linspace(0, 1)\n",
        "        fsm=RFE(estimator=model,n_features_to_select=20,step=200)\n",
        "        res2,scores = do_cross_validation_with_feature_selection(X, y,model=model, num_folds=num_folds,\n",
        "                                                              fs_model=fsm, n_runs=num_runs)\n",
        "        print('ACC\\tSn\\tSp\\tMCC\\tAUC')\n",
        "        print(res2['metrics'])\n",
        "        #print(res2)\n",
        "        fpr = res2['fpr']\n",
        "        tpr = res2['tpr']\n",
        "        roc_auc = auc(fpr, tpr)\n",
        "        aucs.append(roc_auc)\n",
        "        tprs.append(np.interp(mean_fpr, fpr, tpr))\n",
        "        tprs[-1][0] = 0.0\n",
        "        \n",
        "        mean_tpr = np.mean(tprs, axis=0)\n",
        "        mean_tpr[-1] = 1.0\n",
        "        mean_auc = np.mean(aucs)\n",
        "        plt.plot(mean_fpr, mean_tpr, label=f'{model_name} (AUC = {mean_auc:.2f})')\n",
        "        plt.plot([0, 1], [0, 1], linestyle='--', color='gray')\n",
        "    plt.xlabel('False Positive Rate')\n",
        "    plt.ylabel('True Positive Rate')\n",
        "    plt.title('AUC-ROC Comparison of Models')\n",
        "    plt.legend()\n",
        "    plt.show()\n"
      ]
    },
    {
      "cell_type": "code",
      "execution_count": 8,
      "metadata": {},
      "outputs": [
        {
          "name": "stdout",
          "output_type": "stream",
          "text": [
            "\n",
            "Top 20 Genes based on combined score:\n",
            "\n",
            " 1. Gene_3045 — Score: 1.9666\n",
            " 2. Gene_55066 — Score: 1.6934\n",
            " 3. Gene_6007 — Score: 1.5756\n",
            " 4. Gene_2944 — Score: 1.5397\n",
            " 5. Gene_3040 — Score: 1.5291\n",
            " 6. Gene_3039 — Score: 1.5220\n",
            " 7. Gene_105377785 — Score: 1.5017\n",
            " 8. Gene_6231 — Score: 1.4123\n",
            " 9. Gene_3043 — Score: 1.3924\n",
            "10. Gene_22982 — Score: 1.3774\n",
            "11. Gene_23421 — Score: 1.3381\n",
            "12. Gene_3490 — Score: 1.3188\n",
            "13. Gene_100093630 — Score: 1.2815\n",
            "14. Gene_101929777 — Score: 1.2728\n",
            "15. Gene_284581 — Score: 1.2657\n",
            "16. Gene_8653 — Score: 1.2591\n",
            "17. Gene_51129 — Score: 1.2451\n",
            "18. Gene_4233 — Score: 1.2259\n",
            "19. Gene_9087 — Score: 1.2219\n",
            "20. Gene_102723493 — Score: 1.2065\n"
          ]
        }
      ],
      "source": [
        "from sklearn.linear_model import SGDClassifier, LogisticRegression\n",
        "from sklearn.preprocessing import MinMaxScaler\n",
        "import numpy as np\n",
        "\n",
        "# Assume you already have these from before\n",
        "# df = your dataframe with gene expression (samples x genes)\n",
        "# y = label vector (same length as number of samples)\n",
        "# names = list of gene names (column names of df)\n",
        "# X = df.values (gene expression matrix)\n",
        "\n",
        "# === 1. Train both models ===\n",
        "sgd = SGDClassifier(random_state=42, max_iter=1000, tol=1e-3)\n",
        "log = LogisticRegression(random_state=42, max_iter=1000)\n",
        "\n",
        "sgd.fit(X, y)\n",
        "log.fit(X, y)\n",
        "\n",
        "# === 2. Get absolute coefficient scores for genes ===\n",
        "sgd_scores = np.abs(sgd.coef_).flatten()\n",
        "log_scores = np.abs(log.coef_).flatten()\n",
        "\n",
        "# === 3. Normalize both scores between 0 and 1 ===\n",
        "scaler = MinMaxScaler()\n",
        "sgd_norm = scaler.fit_transform(sgd_scores.reshape(-1, 1)).flatten()\n",
        "log_norm = scaler.fit_transform(log_scores.reshape(-1, 1)).flatten()\n",
        "\n",
        "# === 4. Combine scores ===\n",
        "combined_score = sgd_norm + log_norm\n",
        "\n",
        "# === 5. Rank genes ===\n",
        "top_indices = np.argsort(combined_score)[::-1]  # descending order\n",
        "top_genes = [names[i] for i in top_indices]\n",
        "top_scores = [combined_score[i] for i in top_indices]\n",
        "\n",
        "# === 6. Display top N genes ===\n",
        "N = 20\n",
        "print(f\"\\nTop {N} Genes based on combined score:\\n\")\n",
        "for i in range(N):\n",
        "    print(f\"{i+1:2d}. {top_genes[i]} — Score: {top_scores[i]:.4f}\")\n"
      ]
    },
    {
      "cell_type": "markdown",
      "metadata": {},
      "source": [
        "Based on this, I've mapped and provided information on several of these genes and their potential roles in Parkinson's disease (PD):​\n",
        "\n",
        "Gene ID 115811: This corresponds to the IQCD gene. IQCD is located in the ciliary basal body, but its direct association with PD is not well-established. ​\n",
        "Alliance of Genome Resources\n",
        "\n",
        "Gene ID 85320: This corresponds to the ABCC11 gene, which encodes a member of the ATP-binding cassette (ABC) transporter family. While ABC transporters are involved in various cellular processes, a direct link between ABCC11 and PD has not been clearly defined. ​\n",
        "NCBI\n",
        "\n",
        "Gene ID 5031: This corresponds to the PDPK1 gene. PDPK1 is involved in cell survival pathways, and its dysregulation may contribute to neuronal death in PD.​\n",
        "\n",
        "Gene ID 6672: This corresponds to the SPP1 gene, also known as osteopontin. SPP1 is involved in immune responses and has been implicated in neuroinflammatory processes associated with PD.​\n",
        "\n",
        "Gene ID 7035: This corresponds to the TNF gene, which encodes tumor necrosis factor-alpha. TNF-alpha is a pro-inflammatory cytokine that has been associated with neuroinflammation in PD.​\n",
        "\n",
        "Gene ID 1116: This corresponds to the CHGA gene, which encodes chromogranin A. CHGA is involved in the formation of secretory granules and has been studied in the context of neurodegenerative diseases, including PD.​\n",
        "\n",
        "Gene ID 4233: This corresponds to the MMP9 gene, which encodes matrix metallopeptidase 9. MMP9 is involved in extracellular matrix remodeling and has been implicated in blood-brain barrier disruption in PD.​\n",
        "\n",
        "Gene ID 9576: This corresponds to the GABBR2 gene, which encodes the GABA B receptor subunit 2. GABBR2 is involved in inhibitory neurotransmission, and alterations in GABAergic signaling have been observed in PD.​\n",
        "\n",
        "Gene ID 10477: This corresponds to the ATP5B gene, which encodes a subunit of ATP synthase. ATP5B is essential for mitochondrial ATP production, and mitochondrial dysfunction is a hallmark of PD.​\n",
        "\n",
        "Gene ID 152573: This corresponds to the FPR1 gene, which encodes formyl peptide receptor 1. FPR1 is involved in immune responses, and its downregulation may impact neuronal proliferation and differentiation in PD."
      ]
    }
  ],
  "metadata": {
    "colab": {
      "provenance": []
    },
    "kernelspec": {
      "display_name": "base",
      "language": "python",
      "name": "python3"
    },
    "language_info": {
      "codemirror_mode": {
        "name": "ipython",
        "version": 3
      },
      "file_extension": ".py",
      "mimetype": "text/x-python",
      "name": "python",
      "nbconvert_exporter": "python",
      "pygments_lexer": "ipython3",
      "version": "3.11.7"
    }
  },
  "nbformat": 4,
  "nbformat_minor": 0
}
