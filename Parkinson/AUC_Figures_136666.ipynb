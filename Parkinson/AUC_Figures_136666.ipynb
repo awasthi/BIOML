{
  "cells": [
    {
      "cell_type": "markdown",
      "metadata": {
        "id": "4gsxYQvN5_PM"
      },
      "source": [
        "# Using Genex to identify marker genes"
      ]
    },
    {
      "cell_type": "code",
      "execution_count": 1,
      "metadata": {
        "id": "b1FLb07a6MAJ"
      },
      "outputs": [],
      "source": [
        "#from google.colab import drive\n",
        "#drive.mount('/content/drive')\n"
      ]
    },
    {
      "cell_type": "code",
      "execution_count": 2,
      "metadata": {
        "id": "a4rDoEtU6i7w"
      },
      "outputs": [],
      "source": [
        "#import os\n",
        "#os.chdir(\"/content/drive/My Drive/BIOML/HIMANI\")"
      ]
    },
    {
      "cell_type": "code",
      "execution_count": 1,
      "metadata": {
        "id": "2TUWo0L15_PR"
      },
      "outputs": [],
      "source": [
        "import numpy as np\n",
        "import pandas as pd\n",
        "from scipy import stats\n",
        "\n",
        "from sklearn.ensemble import RandomForestClassifier\n",
        "from sklearn.linear_model import SGDClassifier, LogisticRegression,RidgeClassifier\n",
        "from xgboost.sklearn import XGBClassifier\n",
        "from sklearn.preprocessing import MinMaxScaler\n",
        "from sklearn.svm import LinearSVC, SVC\n",
        "from genex.filters.embedded import EmbeddedFilter\n",
        "from genex.filters.mrmr import MRMRP\n",
        "from genex.utils.help_functions import model_based_relevance, auc_relevance, load_DEGs\n",
        "from sklearn.feature_selection import RFE,RFECV, SelectKBest, f_classif,SelectKBest, mutual_info_classif,chi2\n",
        "from genex.eval.evaluate import do_train_test\n",
        "from genex.eval.cross_validation import  do_cross_validation_with_feature_selection,do_cross_validation\n",
        "\n",
        "%matplotlib inline\n",
        "import matplotlib.pyplot as plt\n",
        "#%matplotlib inline\n",
        "\n",
        "#from matplotlib.pyplot import plt\n",
        "import seaborn as sns\n",
        "import warnings\n",
        "\n",
        "# Comment these lines if you are not using Mac OS\n",
        "import matplotlib as mpl\n",
        "#mpl.use('MacOSX')\n",
        "import os\n",
        "os.environ['KMP_DUPLICATE_LIB_OK']='True'\n",
        "\n",
        "# Set random seed\n",
        "seed = 7\n",
        "np.random.seed(seed)"
      ]
    },
    {
      "cell_type": "markdown",
      "metadata": {
        "id": "3gmMJjVA5_Pc"
      },
      "source": [
        "## Inputs and parameters"
      ]
    },
    {
      "cell_type": "code",
      "execution_count": 3,
      "metadata": {
        "id": "d8bXgPAu5_Pe"
      },
      "outputs": [],
      "source": [
        "# ========== INPUTS ==========\n",
        "\n",
        "mydata = 'GSE136666_norm'\n",
        "\n",
        "\n",
        "data_file = './data/'+ mydata +'.csv'\n",
        "\n",
        "deg_lf_file = './data/'+ mydata +'_DEGS.csv'\n",
        "degs_file = './data/'+ mydata +'_DEGS.txt'   # If None, all genes will be considered.\n",
        "out_file = './results/'+ mydata +'/fs_scores.csv'\n",
        "\n",
        "is_save_results = True\n",
        "\n",
        "# data pre-processing\n",
        "is_normalize_samples = False\n",
        "is_normalize_columns = True\n",
        "norm_filter = MinMaxScaler()\n",
        "\n",
        "# experiment\n",
        "num_folds = 5 #2\n",
        "num_runs = 5  #2\n",
        "label = 'disease'\n",
        "\n",
        "# feature selection\n",
        "# num_features = 10 #20\n",
        "# fsm = MRMRP(relevance_func= auc_relevance, redundancy_func=stats.pearsonr, num_features=num_features)\n",
        "\n",
        "models = {\n",
        "    \"LinearSVC\": LinearSVC(),\n",
        "    \"RidgeClassifier\" : RidgeClassifier(alpha=1.0, max_iter=1000, solver='auto', tol=1e-3),\n",
        "    \"LogisticRegression\": LogisticRegression(max_iter=1000),\n",
        "    \"SGDClassifier\" : SGDClassifier(loss=\"log_loss\", penalty=\"l2\", random_state=seed,learning_rate='optimal')\n",
        "}\n",
        "\n",
        "\n",
        "top_markers_to_viz = 10    # set to zero to visualize all potential markers. was 10"
      ]
    },
    {
      "cell_type": "code",
      "execution_count": 4,
      "metadata": {},
      "outputs": [
        {
          "name": "stdout",
          "output_type": "stream",
          "text": [
            "No DEGs provided or file not found. Pipeline will consider all genes.\n"
          ]
        }
      ],
      "source": [
        "if degs_file is not None and os.path.exists(degs_file):\n",
        "    DEGs = load_DEGs(degs_file)\n",
        "    # Keep only genes that exist in the dataframe columns\n",
        "    DEGs = [gene for gene in DEGs if gene in df.columns]\n",
        "    lenDEGs = len(DEGs)\n",
        "    print(f\"{lenDEGs} DEGs loaded and matched!\")\n",
        "else:\n",
        "    lenDEGs = 0\n",
        "    print(\"No DEGs provided or file not found. Pipeline will consider all genes.\")\n",
        "\n",
        "# def load_DEGs(path): if oen from simple text file. this will clean blanck space and blank lines\n",
        "#     with open(path, 'r') as f:\n",
        "#         return [line.strip() for line in f if line.strip()]\n"
      ]
    },
    {
      "cell_type": "code",
      "execution_count": 5,
      "metadata": {
        "colab": {
          "base_uri": "https://localhost:8080/",
          "height": 273
        },
        "id": "Wtu58vkD5_Pj",
        "outputId": "56986672-43ea-4195-8945-1fae45ae9556"
      },
      "outputs": [
        {
          "name": "stdout",
          "output_type": "stream",
          "text": [
            "Shape of ./data/GSE136666_norm.csv is (16, 21360)\n"
          ]
        },
        {
          "data": {
            "text/html": [
              "<div>\n",
              "<style scoped>\n",
              "    .dataframe tbody tr th:only-of-type {\n",
              "        vertical-align: middle;\n",
              "    }\n",
              "\n",
              "    .dataframe tbody tr th {\n",
              "        vertical-align: top;\n",
              "    }\n",
              "\n",
              "    .dataframe thead th {\n",
              "        text-align: right;\n",
              "    }\n",
              "</style>\n",
              "<table border=\"1\" class=\"dataframe\">\n",
              "  <thead>\n",
              "    <tr style=\"text-align: right;\">\n",
              "      <th>GeneId</th>\n",
              "      <th>Gene_100287102</th>\n",
              "      <th>Gene_653635</th>\n",
              "      <th>Gene_102466751</th>\n",
              "      <th>Gene_100996442</th>\n",
              "      <th>Gene_729737</th>\n",
              "      <th>Gene_102725121</th>\n",
              "      <th>Gene_102723897</th>\n",
              "      <th>Gene_102465909</th>\n",
              "      <th>Gene_107985721</th>\n",
              "      <th>Gene_112268260</th>\n",
              "      <th>...</th>\n",
              "      <th>Gene_4538</th>\n",
              "      <th>Gene_4564</th>\n",
              "      <th>Gene_4575</th>\n",
              "      <th>Gene_4568</th>\n",
              "      <th>Gene_4540</th>\n",
              "      <th>Gene_4541</th>\n",
              "      <th>Gene_4556</th>\n",
              "      <th>Gene_4519</th>\n",
              "      <th>Gene_4576</th>\n",
              "      <th>Gene_4571</th>\n",
              "    </tr>\n",
              "  </thead>\n",
              "  <tbody>\n",
              "    <tr>\n",
              "      <th>GSM4054763</th>\n",
              "      <td>0.680779</td>\n",
              "      <td>2.774167</td>\n",
              "      <td>1.316671</td>\n",
              "      <td>2.101168</td>\n",
              "      <td>2.419704</td>\n",
              "      <td>0.401048</td>\n",
              "      <td>2.779129</td>\n",
              "      <td>1.208967</td>\n",
              "      <td>0.849532</td>\n",
              "      <td>1.506750</td>\n",
              "      <td>...</td>\n",
              "      <td>5.482471</td>\n",
              "      <td>2.649103</td>\n",
              "      <td>2.799474</td>\n",
              "      <td>3.080346</td>\n",
              "      <td>5.191520</td>\n",
              "      <td>4.733479</td>\n",
              "      <td>3.738846</td>\n",
              "      <td>5.324706</td>\n",
              "      <td>2.849327</td>\n",
              "      <td>3.548086</td>\n",
              "    </tr>\n",
              "    <tr>\n",
              "      <th>GSM4054764</th>\n",
              "      <td>1.167584</td>\n",
              "      <td>2.882934</td>\n",
              "      <td>1.369827</td>\n",
              "      <td>1.951753</td>\n",
              "      <td>2.276893</td>\n",
              "      <td>1.129134</td>\n",
              "      <td>2.929272</td>\n",
              "      <td>1.346092</td>\n",
              "      <td>0.928276</td>\n",
              "      <td>1.746915</td>\n",
              "      <td>...</td>\n",
              "      <td>5.784443</td>\n",
              "      <td>2.978026</td>\n",
              "      <td>3.145917</td>\n",
              "      <td>3.340831</td>\n",
              "      <td>5.438464</td>\n",
              "      <td>5.022315</td>\n",
              "      <td>3.996462</td>\n",
              "      <td>5.513178</td>\n",
              "      <td>3.127750</td>\n",
              "      <td>3.815840</td>\n",
              "    </tr>\n",
              "    <tr>\n",
              "      <th>GSM4054765</th>\n",
              "      <td>1.285030</td>\n",
              "      <td>2.925723</td>\n",
              "      <td>1.535647</td>\n",
              "      <td>2.161555</td>\n",
              "      <td>2.261716</td>\n",
              "      <td>1.205510</td>\n",
              "      <td>2.974906</td>\n",
              "      <td>1.428171</td>\n",
              "      <td>1.028402</td>\n",
              "      <td>1.939556</td>\n",
              "      <td>...</td>\n",
              "      <td>5.626127</td>\n",
              "      <td>2.997555</td>\n",
              "      <td>3.075958</td>\n",
              "      <td>3.271978</td>\n",
              "      <td>5.367066</td>\n",
              "      <td>4.932047</td>\n",
              "      <td>3.882455</td>\n",
              "      <td>5.409575</td>\n",
              "      <td>2.969931</td>\n",
              "      <td>3.730584</td>\n",
              "    </tr>\n",
              "    <tr>\n",
              "      <th>GSM4054766</th>\n",
              "      <td>0.982851</td>\n",
              "      <td>2.874476</td>\n",
              "      <td>1.541439</td>\n",
              "      <td>2.166594</td>\n",
              "      <td>2.385287</td>\n",
              "      <td>1.064473</td>\n",
              "      <td>2.924496</td>\n",
              "      <td>1.497982</td>\n",
              "      <td>1.173566</td>\n",
              "      <td>1.737706</td>\n",
              "      <td>...</td>\n",
              "      <td>5.579404</td>\n",
              "      <td>2.671548</td>\n",
              "      <td>2.841360</td>\n",
              "      <td>3.098011</td>\n",
              "      <td>5.226773</td>\n",
              "      <td>4.774031</td>\n",
              "      <td>3.750852</td>\n",
              "      <td>5.367982</td>\n",
              "      <td>2.739500</td>\n",
              "      <td>3.472530</td>\n",
              "    </tr>\n",
              "    <tr>\n",
              "      <th>GSM4054767</th>\n",
              "      <td>0.905348</td>\n",
              "      <td>2.850889</td>\n",
              "      <td>1.541582</td>\n",
              "      <td>2.106363</td>\n",
              "      <td>2.278108</td>\n",
              "      <td>0.581686</td>\n",
              "      <td>2.924471</td>\n",
              "      <td>1.396928</td>\n",
              "      <td>1.252855</td>\n",
              "      <td>1.909959</td>\n",
              "      <td>...</td>\n",
              "      <td>5.663482</td>\n",
              "      <td>2.817755</td>\n",
              "      <td>2.988632</td>\n",
              "      <td>3.195870</td>\n",
              "      <td>5.351394</td>\n",
              "      <td>4.889068</td>\n",
              "      <td>3.903264</td>\n",
              "      <td>5.451644</td>\n",
              "      <td>2.920817</td>\n",
              "      <td>3.609562</td>\n",
              "    </tr>\n",
              "  </tbody>\n",
              "</table>\n",
              "<p>5 rows × 21359 columns</p>\n",
              "</div>"
            ],
            "text/plain": [
              "GeneId      Gene_100287102  Gene_653635  Gene_102466751  Gene_100996442  \\\n",
              "GSM4054763        0.680779     2.774167        1.316671        2.101168   \n",
              "GSM4054764        1.167584     2.882934        1.369827        1.951753   \n",
              "GSM4054765        1.285030     2.925723        1.535647        2.161555   \n",
              "GSM4054766        0.982851     2.874476        1.541439        2.166594   \n",
              "GSM4054767        0.905348     2.850889        1.541582        2.106363   \n",
              "\n",
              "GeneId      Gene_729737  Gene_102725121  Gene_102723897  Gene_102465909  \\\n",
              "GSM4054763     2.419704        0.401048        2.779129        1.208967   \n",
              "GSM4054764     2.276893        1.129134        2.929272        1.346092   \n",
              "GSM4054765     2.261716        1.205510        2.974906        1.428171   \n",
              "GSM4054766     2.385287        1.064473        2.924496        1.497982   \n",
              "GSM4054767     2.278108        0.581686        2.924471        1.396928   \n",
              "\n",
              "GeneId      Gene_107985721  Gene_112268260  ...  Gene_4538  Gene_4564  \\\n",
              "GSM4054763        0.849532        1.506750  ...   5.482471   2.649103   \n",
              "GSM4054764        0.928276        1.746915  ...   5.784443   2.978026   \n",
              "GSM4054765        1.028402        1.939556  ...   5.626127   2.997555   \n",
              "GSM4054766        1.173566        1.737706  ...   5.579404   2.671548   \n",
              "GSM4054767        1.252855        1.909959  ...   5.663482   2.817755   \n",
              "\n",
              "GeneId      Gene_4575  Gene_4568  Gene_4540  Gene_4541  Gene_4556  Gene_4519  \\\n",
              "GSM4054763   2.799474   3.080346   5.191520   4.733479   3.738846   5.324706   \n",
              "GSM4054764   3.145917   3.340831   5.438464   5.022315   3.996462   5.513178   \n",
              "GSM4054765   3.075958   3.271978   5.367066   4.932047   3.882455   5.409575   \n",
              "GSM4054766   2.841360   3.098011   5.226773   4.774031   3.750852   5.367982   \n",
              "GSM4054767   2.988632   3.195870   5.351394   4.889068   3.903264   5.451644   \n",
              "\n",
              "GeneId      Gene_4576  Gene_4571  \n",
              "GSM4054763   2.849327   3.548086  \n",
              "GSM4054764   3.127750   3.815840  \n",
              "GSM4054765   2.969931   3.730584  \n",
              "GSM4054766   2.739500   3.472530  \n",
              "GSM4054767   2.920817   3.609562  \n",
              "\n",
              "[5 rows x 21359 columns]"
            ]
          },
          "execution_count": 5,
          "metadata": {},
          "output_type": "execute_result"
        }
      ],
      "source": [
        "df = pd.read_csv(data_file,low_memory=False)\n",
        "df=df.set_index('GeneId')\n",
        "df = df.transpose()\n",
        "\n",
        "#df2 = pd.read_csv(deg_lf_file)\n",
        "\n",
        "\n",
        "print('Shape of {0} is {1}'.format(data_file, df.shape))\n",
        "theData = df\n",
        "y = df[label]\n",
        "df =df.drop([label],axis=1)\n",
        "df.head()"
      ]
    },
    {
      "cell_type": "code",
      "execution_count": 6,
      "metadata": {},
      "outputs": [
        {
          "name": "stdout",
          "output_type": "stream",
          "text": [
            "Shape of ./data/GSE136666_norm.csv is (16, 21360)\n",
            "Shape (Within DEGs) of ./data/GSE136666_norm.csv is (16, 21359)\n"
          ]
        }
      ],
      "source": [
        "# Load and process data\n",
        "df = pd.read_csv(data_file, low_memory=False)\n",
        "df = df.set_index('GeneId').transpose()\n",
        "print(f\"Shape of {data_file} is {df.shape}\")\n",
        "\n",
        "y = df[label]\n",
        "\n",
        "if lenDEGs > 0:\n",
        "    df = df[DEGs]\n",
        "else:\n",
        "    df = df.drop([label], axis=1)\n",
        "\n",
        "print(f\"Shape (Within DEGs) of {data_file} is {df.shape}\")\n",
        "names = df.columns\n",
        "X = df.values\n"
      ]
    },
    {
      "cell_type": "code",
      "execution_count": 7,
      "metadata": {
        "colab": {
          "base_uri": "https://localhost:8080/"
        },
        "id": "9HmmiBYP5_Pl",
        "outputId": "c17d4c93-f15e-4fae-cc2f-2915d0b15cfc"
      },
      "outputs": [
        {
          "name": "stdout",
          "output_type": "stream",
          "text": [
            "Genes Normalized..\n"
          ]
        }
      ],
      "source": [
        "# Normalize per sample?\n",
        "if is_normalize_samples:\n",
        "    X = norm_filter.fit_transform(X.T, y).T\n",
        "    print('Samples Normalized..')\n",
        "# Normalize per sample\n",
        "elif is_normalize_columns:\n",
        "    X = norm_filter.fit_transform(X, y)\n",
        "    print('Genes Normalized..')\n",
        "else:\n",
        "    print('No normalization used..')"
      ]
    },
    {
      "cell_type": "code",
      "execution_count": 8,
      "metadata": {},
      "outputs": [
        {
          "name": "stdout",
          "output_type": "stream",
          "text": [
            "ACC\tSn\tSp\tMCC\tAUC\n",
            "[0.7  0.66 0.72 0.38 0.69]\n",
            "ACC\tSn\tSp\tMCC\tAUC\n",
            "[0.76666667 0.68       0.88       0.56618802 0.78      ]\n",
            "ACC\tSn\tSp\tMCC\tAUC\n",
            "[0.75       0.7        0.84       0.54928203 0.91      ]\n",
            "ACC\tSn\tSp\tMCC\tAUC\n",
            "[0.79333333 0.8        0.8        0.61237604 0.93      ]\n"
          ]
        },
        {
          "data": {
            "image/png": "[encoded data removed]",
            "text/plain": [
              "<Figure size 640x480 with 1 Axes>"
            ]
          },
          "metadata": {},
          "output_type": "display_data"
        }
      ],
      "source": [
        "from sklearn.metrics import roc_curve, auc\n",
        "\n",
        "\n",
        "with warnings.catch_warnings():\n",
        "    warnings.simplefilter(\"ignore\")\n",
        "    for model_name, model in models.items():\n",
        "        tprs, aucs, mean_fpr = [], [], np.linspace(0, 1)\n",
        "        fsm=RFE(estimator=model,n_features_to_select=20,step=200)\n",
        "        res2,scores = do_cross_validation_with_feature_selection(X, y,model=model, num_folds=num_folds,\n",
        "                                                              fs_model=fsm, n_runs=num_runs)\n",
        "        print('ACC\\tSn\\tSp\\tMCC\\tAUC')\n",
        "        print(res2['metrics'])\n",
        "        #print(res2)\n",
        "        fpr = res2['fpr']\n",
        "        tpr = res2['tpr']\n",
        "        roc_auc = auc(fpr, tpr)\n",
        "        aucs.append(roc_auc)\n",
        "        tprs.append(np.interp(mean_fpr, fpr, tpr))\n",
        "        tprs[-1][0] = 0.0\n",
        "        \n",
        "        mean_tpr = np.mean(tprs, axis=0)\n",
        "        mean_tpr[-1] = 1.0\n",
        "        mean_auc = np.mean(aucs)\n",
        "        plt.plot(mean_fpr, mean_tpr, label=f'{model_name} (AUC = {mean_auc:.2f})')\n",
        "        plt.plot([0, 1], [0, 1], linestyle='--', color='gray')\n",
        "    plt.xlabel('False Positive Rate')\n",
        "    plt.ylabel('True Positive Rate')\n",
        "    plt.title('AUC-ROC Comparison of Models')\n",
        "    plt.legend()\n",
        "    plt.show()\n"
      ]
    },
    {
      "cell_type": "code",
      "execution_count": 10,
      "metadata": {},
      "outputs": [
        {
          "name": "stdout",
          "output_type": "stream",
          "text": [
            "ACC\tSn\tSp\tMCC\tAUC\n",
            "[0.79333333 0.8        0.8        0.61237604 0.93      ]\n"
          ]
        }
      ],
      "source": [
        "with warnings.catch_warnings():\n",
        "    warnings.simplefilter(\"ignore\")\n",
        "\n",
        "    res2, scores = do_cross_validation_with_feature_selection(X, y,model=model, num_folds=num_folds,\n",
        "                                                              fs_model=fsm, n_runs=num_runs)\n",
        "    print('ACC\\tSn\\tSp\\tMCC\\tAUC')\n",
        "    print(res2['metrics'])\n",
        "    #print(scores)\n",
        "\n",
        "    dict = {'feature': names, 'score': scores}\n",
        "    df_score = pd.DataFrame(dict, columns=['feature', 'score'],index=None)\n",
        "    df_score[df_score['score']>0].sort_values(by='score',ascending=False)\n"
      ]
    },
    {
      "cell_type": "code",
      "execution_count": 9,
      "metadata": {},
      "outputs": [
        {
          "name": "stdout",
          "output_type": "stream",
          "text": [
            "\n",
            "Top 20 Genes based on combined score:\n",
            "\n",
            " 1. Gene_101927834 — Score: 1.8865\n",
            " 2. Gene_399975 — Score: 1.8812\n",
            " 3. Gene_83734 — Score: 1.8424\n",
            " 4. Gene_26167 — Score: 1.7662\n",
            " 5. Gene_102724064 — Score: 1.6559\n",
            " 6. Gene_102723508 — Score: 1.6503\n",
            " 7. Gene_54209 — Score: 1.6482\n",
            " 8. Gene_102467073 — Score: 1.6373\n",
            " 9. Gene_112770 — Score: 1.6134\n",
            "10. Gene_9455 — Score: 1.6076\n",
            "11. Gene_50485 — Score: 1.6058\n",
            "12. Gene_100873165 — Score: 1.6058\n",
            "13. Gene_57488 — Score: 1.6054\n",
            "14. Gene_9298 — Score: 1.5987\n",
            "15. Gene_11264 — Score: 1.5982\n",
            "16. Gene_100526832 — Score: 1.5968\n",
            "17. Gene_107985219 — Score: 1.5855\n",
            "18. Gene_340205 — Score: 1.5723\n",
            "19. Gene_375248 — Score: 1.5719\n",
            "20. Gene_441884 — Score: 1.5647\n"
          ]
        }
      ],
      "source": [
        "from sklearn.linear_model import SGDClassifier, LogisticRegression\n",
        "from sklearn.preprocessing import MinMaxScaler\n",
        "import numpy as np\n",
        "\n",
        "# Assume you already have these from before\n",
        "# df = your dataframe with gene expression (samples x genes)\n",
        "# y = label vector (same length as number of samples)\n",
        "# names = list of gene names (column names of df)\n",
        "# X = df.values (gene expression matrix)\n",
        "\n",
        "# === 1. Train both models ===\n",
        "sgd = SGDClassifier(random_state=42, max_iter=1000, tol=1e-3)\n",
        "log = LogisticRegression(random_state=42, max_iter=1000)\n",
        "\n",
        "sgd.fit(X, y)\n",
        "log.fit(X, y)\n",
        "\n",
        "# === 2. Get absolute coefficient scores for genes ===\n",
        "sgd_scores = np.abs(sgd.coef_).flatten()\n",
        "log_scores = np.abs(log.coef_).flatten()\n",
        "\n",
        "# === 3. Normalize both scores between 0 and 1 ===\n",
        "scaler = MinMaxScaler()\n",
        "sgd_norm = scaler.fit_transform(sgd_scores.reshape(-1, 1)).flatten()\n",
        "log_norm = scaler.fit_transform(log_scores.reshape(-1, 1)).flatten()\n",
        "\n",
        "# === 4. Combine scores ===\n",
        "combined_score = sgd_norm + log_norm\n",
        "\n",
        "# === 5. Rank genes ===\n",
        "top_indices = np.argsort(combined_score)[::-1]  # descending order\n",
        "top_genes = [names[i] for i in top_indices]\n",
        "top_scores = [combined_score[i] for i in top_indices]\n",
        "\n",
        "# === 6. Display top N genes ===\n",
        "N = 20\n",
        "print(f\"\\nTop {N} Genes based on combined score:\\n\")\n",
        "for i in range(N):\n",
        "    print(f\"{i+1:2d}. {top_genes[i]} — Score: {top_scores[i]:.4f}\")\n"
      ]
    },
    {
      "cell_type": "markdown",
      "metadata": {},
      "source": []
    }
  ],
  "metadata": {
    "colab": {
      "provenance": []
    },
    "kernelspec": {
      "display_name": "base",
      "language": "python",
      "name": "python3"
    },
    "language_info": {
      "codemirror_mode": {
        "name": "ipython",
        "version": 3
      },
      "file_extension": ".py",
      "mimetype": "text/x-python",
      "name": "python",
      "nbconvert_exporter": "python",
      "pygments_lexer": "ipython3",
      "version": "3.11.7"
    }
  },
  "nbformat": 4,
  "nbformat_minor": 0
}
