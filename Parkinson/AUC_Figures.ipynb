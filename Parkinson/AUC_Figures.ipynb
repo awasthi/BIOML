{
  "cells": [
    {
      "cell_type": "markdown",
      "metadata": {
        "id": "4gsxYQvN5_PM"
      },
      "source": [
        "# Using Genex to identify marker genes"
      ]
    },
    {
      "cell_type": "code",
      "execution_count": 47,
      "metadata": {
        "id": "b1FLb07a6MAJ"
      },
      "outputs": [],
      "source": [
        "#from google.colab import drive\n",
        "#drive.mount('/content/drive')\n"
      ]
    },
    {
      "cell_type": "code",
      "execution_count": 48,
      "metadata": {
        "id": "a4rDoEtU6i7w"
      },
      "outputs": [],
      "source": [
        "#import os\n",
        "#os.chdir(\"/content/drive/My Drive/BIOML/HIMANI\")"
      ]
    },
    {
      "cell_type": "code",
      "execution_count": null,
      "metadata": {
        "id": "2TUWo0L15_PR"
      },
      "outputs": [],
      "source": [
        "import numpy as np\n",
        "import pandas as pd\n",
        "from scipy import stats\n",
        "\n",
        "from sklearn.ensemble import RandomForestClassifier\n",
        "from sklearn.linear_model import SGDClassifier, LogisticRegression,RidgeClassifier\n",
        "from xgboost.sklearn import XGBClassifier\n",
        "from sklearn.preprocessing import MinMaxScaler\n",
        "from sklearn.svm import LinearSVC, SVC\n",
        "from genex.filters.embedded import EmbeddedFilter\n",
        "from genex.filters.mrmr import MRMRP\n",
        "from genex.utils.help_functions import model_based_relevance, auc_relevance, load_DEGs\n",
        "from sklearn.feature_selection import RFE,RFECV, SelectKBest, f_classif,SelectKBest, mutual_info_classif,chi2\n",
        "from genex.eval.evaluate import do_train_test\n",
        "from genex.eval.cross_validation import  do_cross_validation_with_feature_selection,do_cross_validation\n",
        "\n",
        "%matplotlib inline\n",
        "import matplotlib.pyplot as plt\n",
        "#%matplotlib inline\n",
        "\n",
        "#from matplotlib.pyplot import plt\n",
        "import seaborn as sns\n",
        "import warnings\n",
        "\n",
        "# Comment these lines if you are not using Mac OS\n",
        "import matplotlib as mpl\n",
        "#mpl.use('MacOSX')\n",
        "import os\n",
        "os.environ['KMP_DUPLICATE_LIB_OK']='True'\n",
        "\n",
        "# Set random seed\n",
        "seed = 7\n",
        "np.random.seed(seed)"
      ]
    },
    {
      "cell_type": "markdown",
      "metadata": {
        "id": "3gmMJjVA5_Pc"
      },
      "source": [
        "## Inputs and parameters"
      ]
    },
    {
      "cell_type": "code",
      "execution_count": 3,
      "metadata": {
        "id": "d8bXgPAu5_Pe"
      },
      "outputs": [],
      "source": [
        "# ========== INPUTS ==========\n",
        "\n",
        "mydata = 'GSE106608_norm'\n",
        "\n",
        "\n",
        "data_file = './data/'+ mydata +'.csv'\n",
        "\n",
        "deg_lf_file = './data/'+ mydata +'_DEGS.csv'\n",
        "degs_file = './data/'+ mydata +'_DEGS.txt'   # If None, all genes will be considered.\n",
        "out_file = './results/'+ mydata +'/fs_scores.csv'\n",
        "\n",
        "is_save_results = True\n",
        "\n",
        "# data pre-processing\n",
        "is_normalize_samples = False\n",
        "is_normalize_columns = True\n",
        "norm_filter = MinMaxScaler()\n",
        "\n",
        "# experiment\n",
        "num_folds = 5 #2\n",
        "num_runs = 5  #2\n",
        "label = 'disease'\n",
        "\n",
        "# feature selection\n",
        "# num_features = 10 #20\n",
        "# fsm = MRMRP(relevance_func= auc_relevance, redundancy_func=stats.pearsonr, num_features=num_features)\n",
        "\n",
        "models = {\n",
        "    \"LinearSVC\": LinearSVC(),\n",
        "    \"RidgeClassifier\" : RidgeClassifier(alpha=1.0, max_iter=1000, solver='auto', tol=1e-3),\n",
        "    \"LogisticRegression\": LogisticRegression(max_iter=1000),\n",
        "    \"SGDClassifier\" : SGDClassifier(loss=\"log_loss\", penalty=\"l2\", random_state=seed,learning_rate='optimal')\n",
        "}\n",
        "\n",
        "\n",
        "top_markers_to_viz = 10    # set to zero to visualize all potential markers. was 10"
      ]
    },
    {
      "cell_type": "code",
      "execution_count": null,
      "metadata": {},
      "outputs": [
        {
          "name": "stdout",
          "output_type": "stream",
          "text": [
            "No DEGs provided or file not found. Pipeline will consider all genes.\n"
          ]
        }
      ],
      "source": [
        "if degs_file is not None and os.path.exists(degs_file):\n",
        "    DEGs = load_DEGs(degs_file)\n",
        "    # Keep only genes that exist in the dataframe columns\n",
        "    DEGs = [gene for gene in DEGs if gene in df.columns]\n",
        "    lenDEGs = len(DEGs)\n",
        "    print(f\"{lenDEGs} DEGs loaded and matched!\")\n",
        "else:\n",
        "    lenDEGs = 0\n",
        "    print(\"No DEGs provided or file not found. Pipeline will consider all genes.\")\n",
        "\n",
        "# def load_DEGs(path): if oen from simple text file. this will clean blanck space and blank lines\n",
        "#     with open(path, 'r') as f:\n",
        "#         return [line.strip() for line in f if line.strip()]\n"
      ]
    },
    {
      "cell_type": "code",
      "execution_count": 11,
      "metadata": {
        "colab": {
          "base_uri": "https://localhost:8080/",
          "height": 273
        },
        "id": "Wtu58vkD5_Pj",
        "outputId": "56986672-43ea-4195-8945-1fae45ae9556"
      },
      "outputs": [
        {
          "name": "stdout",
          "output_type": "stream",
          "text": [
            "Shape of ./data/GSE106608_norm.csv is (16, 18346)\n"
          ]
        },
        {
          "data": {
            "text/html": [
              "<div>\n",
              "<style scoped>\n",
              "    .dataframe tbody tr th:only-of-type {\n",
              "        vertical-align: middle;\n",
              "    }\n",
              "\n",
              "    .dataframe tbody tr th {\n",
              "        vertical-align: top;\n",
              "    }\n",
              "\n",
              "    .dataframe thead th {\n",
              "        text-align: right;\n",
              "    }\n",
              "</style>\n",
              "<table border=\"1\" class=\"dataframe\">\n",
              "  <thead>\n",
              "    <tr style=\"text-align: right;\">\n",
              "      <th>GeneId</th>\n",
              "      <th>Gene_100287102</th>\n",
              "      <th>Gene_653635</th>\n",
              "      <th>Gene_102466751</th>\n",
              "      <th>Gene_100996442</th>\n",
              "      <th>Gene_729737</th>\n",
              "      <th>Gene_102725121</th>\n",
              "      <th>Gene_102723897</th>\n",
              "      <th>Gene_102465909</th>\n",
              "      <th>Gene_112268260</th>\n",
              "      <th>Gene_729759</th>\n",
              "      <th>...</th>\n",
              "      <th>Gene_4563</th>\n",
              "      <th>Gene_4537</th>\n",
              "      <th>Gene_4539</th>\n",
              "      <th>Gene_4538</th>\n",
              "      <th>Gene_4568</th>\n",
              "      <th>Gene_4540</th>\n",
              "      <th>Gene_4541</th>\n",
              "      <th>Gene_4556</th>\n",
              "      <th>Gene_4519</th>\n",
              "      <th>Gene_4571</th>\n",
              "    </tr>\n",
              "  </thead>\n",
              "  <tbody>\n",
              "    <tr>\n",
              "      <th>GSM2843848</th>\n",
              "      <td>1.316889</td>\n",
              "      <td>3.440423</td>\n",
              "      <td>1.624622</td>\n",
              "      <td>1.767795</td>\n",
              "      <td>3.314412</td>\n",
              "      <td>1.485945</td>\n",
              "      <td>3.483799</td>\n",
              "      <td>1.702082</td>\n",
              "      <td>0.965042</td>\n",
              "      <td>2.046247</td>\n",
              "      <td>...</td>\n",
              "      <td>0.773491</td>\n",
              "      <td>2.853347</td>\n",
              "      <td>2.763542</td>\n",
              "      <td>3.703757</td>\n",
              "      <td>0.965042</td>\n",
              "      <td>3.655679</td>\n",
              "      <td>3.115309</td>\n",
              "      <td>2.187562</td>\n",
              "      <td>3.340300</td>\n",
              "      <td>1.436562</td>\n",
              "    </tr>\n",
              "    <tr>\n",
              "      <th>GSM2843849</th>\n",
              "      <td>1.651310</td>\n",
              "      <td>3.325132</td>\n",
              "      <td>1.504666</td>\n",
              "      <td>1.373957</td>\n",
              "      <td>3.160321</td>\n",
              "      <td>1.725183</td>\n",
              "      <td>3.328069</td>\n",
              "      <td>1.534408</td>\n",
              "      <td>1.141101</td>\n",
              "      <td>1.777484</td>\n",
              "      <td>...</td>\n",
              "      <td>1.116729</td>\n",
              "      <td>2.494369</td>\n",
              "      <td>2.507818</td>\n",
              "      <td>3.445614</td>\n",
              "      <td>1.034146</td>\n",
              "      <td>3.390673</td>\n",
              "      <td>2.821239</td>\n",
              "      <td>1.904710</td>\n",
              "      <td>3.115201</td>\n",
              "      <td>1.524718</td>\n",
              "    </tr>\n",
              "    <tr>\n",
              "      <th>GSM2843850</th>\n",
              "      <td>1.246739</td>\n",
              "      <td>3.195542</td>\n",
              "      <td>1.359980</td>\n",
              "      <td>1.224623</td>\n",
              "      <td>3.280541</td>\n",
              "      <td>1.421815</td>\n",
              "      <td>3.308169</td>\n",
              "      <td>1.556931</td>\n",
              "      <td>1.026915</td>\n",
              "      <td>1.359980</td>\n",
              "      <td>...</td>\n",
              "      <td>1.026915</td>\n",
              "      <td>2.613032</td>\n",
              "      <td>2.640878</td>\n",
              "      <td>3.545706</td>\n",
              "      <td>1.659835</td>\n",
              "      <td>3.439466</td>\n",
              "      <td>2.860234</td>\n",
              "      <td>1.911796</td>\n",
              "      <td>3.108534</td>\n",
              "      <td>1.546245</td>\n",
              "    </tr>\n",
              "    <tr>\n",
              "      <th>GSM2843851</th>\n",
              "      <td>1.535281</td>\n",
              "      <td>3.339974</td>\n",
              "      <td>1.493146</td>\n",
              "      <td>1.350373</td>\n",
              "      <td>3.110905</td>\n",
              "      <td>1.657042</td>\n",
              "      <td>3.340131</td>\n",
              "      <td>1.600415</td>\n",
              "      <td>1.284095</td>\n",
              "      <td>1.979307</td>\n",
              "      <td>...</td>\n",
              "      <td>0.987718</td>\n",
              "      <td>2.678244</td>\n",
              "      <td>2.769738</td>\n",
              "      <td>3.611432</td>\n",
              "      <td>0.987718</td>\n",
              "      <td>3.446003</td>\n",
              "      <td>2.951976</td>\n",
              "      <td>2.010650</td>\n",
              "      <td>3.266213</td>\n",
              "      <td>1.713837</td>\n",
              "    </tr>\n",
              "    <tr>\n",
              "      <th>GSM2843852</th>\n",
              "      <td>1.346531</td>\n",
              "      <td>3.125166</td>\n",
              "      <td>1.222988</td>\n",
              "      <td>1.541298</td>\n",
              "      <td>3.134025</td>\n",
              "      <td>1.541298</td>\n",
              "      <td>3.110339</td>\n",
              "      <td>1.262011</td>\n",
              "      <td>1.202077</td>\n",
              "      <td>1.941548</td>\n",
              "      <td>...</td>\n",
              "      <td>0.984110</td>\n",
              "      <td>2.567508</td>\n",
              "      <td>2.543785</td>\n",
              "      <td>3.456292</td>\n",
              "      <td>0.812823</td>\n",
              "      <td>3.337681</td>\n",
              "      <td>2.780108</td>\n",
              "      <td>1.909145</td>\n",
              "      <td>3.087244</td>\n",
              "      <td>1.202077</td>\n",
              "    </tr>\n",
              "  </tbody>\n",
              "</table>\n",
              "<p>5 rows × 18345 columns</p>\n",
              "</div>"
            ],
            "text/plain": [
              "GeneId      Gene_100287102  Gene_653635  Gene_102466751  Gene_100996442  \\\n",
              "GSM2843848        1.316889     3.440423        1.624622        1.767795   \n",
              "GSM2843849        1.651310     3.325132        1.504666        1.373957   \n",
              "GSM2843850        1.246739     3.195542        1.359980        1.224623   \n",
              "GSM2843851        1.535281     3.339974        1.493146        1.350373   \n",
              "GSM2843852        1.346531     3.125166        1.222988        1.541298   \n",
              "\n",
              "GeneId      Gene_729737  Gene_102725121  Gene_102723897  Gene_102465909  \\\n",
              "GSM2843848     3.314412        1.485945        3.483799        1.702082   \n",
              "GSM2843849     3.160321        1.725183        3.328069        1.534408   \n",
              "GSM2843850     3.280541        1.421815        3.308169        1.556931   \n",
              "GSM2843851     3.110905        1.657042        3.340131        1.600415   \n",
              "GSM2843852     3.134025        1.541298        3.110339        1.262011   \n",
              "\n",
              "GeneId      Gene_112268260  Gene_729759  ...  Gene_4563  Gene_4537  Gene_4539  \\\n",
              "GSM2843848        0.965042     2.046247  ...   0.773491   2.853347   2.763542   \n",
              "GSM2843849        1.141101     1.777484  ...   1.116729   2.494369   2.507818   \n",
              "GSM2843850        1.026915     1.359980  ...   1.026915   2.613032   2.640878   \n",
              "GSM2843851        1.284095     1.979307  ...   0.987718   2.678244   2.769738   \n",
              "GSM2843852        1.202077     1.941548  ...   0.984110   2.567508   2.543785   \n",
              "\n",
              "GeneId      Gene_4538  Gene_4568  Gene_4540  Gene_4541  Gene_4556  Gene_4519  \\\n",
              "GSM2843848   3.703757   0.965042   3.655679   3.115309   2.187562   3.340300   \n",
              "GSM2843849   3.445614   1.034146   3.390673   2.821239   1.904710   3.115201   \n",
              "GSM2843850   3.545706   1.659835   3.439466   2.860234   1.911796   3.108534   \n",
              "GSM2843851   3.611432   0.987718   3.446003   2.951976   2.010650   3.266213   \n",
              "GSM2843852   3.456292   0.812823   3.337681   2.780108   1.909145   3.087244   \n",
              "\n",
              "GeneId      Gene_4571  \n",
              "GSM2843848   1.436562  \n",
              "GSM2843849   1.524718  \n",
              "GSM2843850   1.546245  \n",
              "GSM2843851   1.713837  \n",
              "GSM2843852   1.202077  \n",
              "\n",
              "[5 rows x 18345 columns]"
            ]
          },
          "execution_count": 11,
          "metadata": {},
          "output_type": "execute_result"
        }
      ],
      "source": [
        "df = pd.read_csv(data_file,low_memory=False)\n",
        "df=df.set_index('GeneId')\n",
        "df = df.transpose()\n",
        "\n",
        "#df2 = pd.read_csv(deg_lf_file)\n",
        "\n",
        "\n",
        "print('Shape of {0} is {1}'.format(data_file, df.shape))\n",
        "theData = df\n",
        "y = df[label]\n",
        "df =df.drop([label],axis=1)\n",
        "df.head()"
      ]
    },
    {
      "cell_type": "code",
      "execution_count": 13,
      "metadata": {},
      "outputs": [
        {
          "name": "stdout",
          "output_type": "stream",
          "text": [
            "Shape of ./data/GSE106608_norm.csv is (16, 18346)\n",
            "Shape (Within DEGs) of ./data/GSE106608_norm.csv is (16, 18345)\n"
          ]
        }
      ],
      "source": [
        "# Load and process data\n",
        "df = pd.read_csv(data_file, low_memory=False)\n",
        "df = df.set_index('GeneId').transpose()\n",
        "print(f\"Shape of {data_file} is {df.shape}\")\n",
        "\n",
        "y = df[label]\n",
        "\n",
        "if lenDEGs > 0:\n",
        "    df = df[DEGs]\n",
        "else:\n",
        "    df = df.drop([label], axis=1)\n",
        "\n",
        "print(f\"Shape (Within DEGs) of {data_file} is {df.shape}\")\n",
        "names = df.columns\n",
        "X = df.values\n"
      ]
    },
    {
      "cell_type": "code",
      "execution_count": 14,
      "metadata": {
        "colab": {
          "base_uri": "https://localhost:8080/"
        },
        "id": "9HmmiBYP5_Pl",
        "outputId": "c17d4c93-f15e-4fae-cc2f-2915d0b15cfc"
      },
      "outputs": [
        {
          "name": "stdout",
          "output_type": "stream",
          "text": [
            "Genes Normalized..\n"
          ]
        }
      ],
      "source": [
        "# Normalize per sample?\n",
        "if is_normalize_samples:\n",
        "    X = norm_filter.fit_transform(X.T, y).T\n",
        "    print('Samples Normalized..')\n",
        "# Normalize per sample\n",
        "elif is_normalize_columns:\n",
        "    X = norm_filter.fit_transform(X, y)\n",
        "    print('Genes Normalized..')\n",
        "else:\n",
        "    print('No normalization used..')"
      ]
    },
    {
      "cell_type": "code",
      "execution_count": 17,
      "metadata": {},
      "outputs": [
        {
          "name": "stdout",
          "output_type": "stream",
          "text": [
            "ACC\tSn\tSp\tMCC\tAUC\n",
            "[0.77333333 0.52       0.98       0.50618802 0.75      ]\n",
            "ACC\tSn\tSp\tMCC\tAUC\n",
            "[0.73       0.58       0.86       0.44928203 0.72      ]\n",
            "ACC\tSn\tSp\tMCC\tAUC\n",
            "[0.82       0.66       0.96       0.62618802 0.93      ]\n",
            "ACC\tSn\tSp\tMCC\tAUC\n",
            "[0.69333333 0.64       0.78       0.42618802 0.8       ]\n"
          ]
        },
        {
          "data": {
            "image/png": "[encoded data removed]",
            "text/plain": [
              "<Figure size 640x480 with 1 Axes>"
            ]
          },
          "metadata": {},
          "output_type": "display_data"
        }
      ],
      "source": [
        "from sklearn.metrics import roc_curve, auc\n",
        "\n",
        "\n",
        "with warnings.catch_warnings():\n",
        "    warnings.simplefilter(\"ignore\")\n",
        "    for model_name, model in models.items():\n",
        "        tprs, aucs, mean_fpr = [], [], np.linspace(0, 1)\n",
        "        fsm=RFE(estimator=model,n_features_to_select=20,step=200)\n",
        "        res2,scores = do_cross_validation_with_feature_selection(X, y,model=model, num_folds=num_folds,\n",
        "                                                              fs_model=fsm, n_runs=num_runs)\n",
        "        print('ACC\\tSn\\tSp\\tMCC\\tAUC')\n",
        "        print(res2['metrics'])\n",
        "        #print(res2)\n",
        "        fpr = res2['fpr']\n",
        "        tpr = res2['tpr']\n",
        "        roc_auc = auc(fpr, tpr)\n",
        "        aucs.append(roc_auc)\n",
        "        tprs.append(np.interp(mean_fpr, fpr, tpr))\n",
        "        tprs[-1][0] = 0.0\n",
        "        \n",
        "        mean_tpr = np.mean(tprs, axis=0)\n",
        "        mean_tpr[-1] = 1.0\n",
        "        mean_auc = np.mean(aucs)\n",
        "        plt.plot(mean_fpr, mean_tpr, label=f'{model_name} (AUC = {mean_auc:.2f})')\n",
        "        plt.plot([0, 1], [0, 1], linestyle='--', color='gray')\n",
        "    plt.xlabel('False Positive Rate')\n",
        "    plt.ylabel('True Positive Rate')\n",
        "    plt.title('AUC-ROC Comparison of Models')\n",
        "    plt.legend()\n",
        "    plt.show()\n"
      ]
    },
    {
      "cell_type": "code",
      "execution_count": 29,
      "metadata": {},
      "outputs": [
        {
          "name": "stdout",
          "output_type": "stream",
          "text": [
            "ACC\tSn\tSp\tMCC\tAUC\n",
            "[0.69333333 0.64       0.78       0.42618802 0.8       ]\n"
          ]
        }
      ],
      "source": [
        "with warnings.catch_warnings():\n",
        "    warnings.simplefilter(\"ignore\")\n",
        "\n",
        "    res2, scores = do_cross_validation_with_feature_selection(X, y,model=model, num_folds=num_folds,\n",
        "                                                              fs_model=fsm, n_runs=num_runs)\n",
        "    print('ACC\\tSn\\tSp\\tMCC\\tAUC')\n",
        "    print(res2['metrics'])\n",
        "    #print(scores)\n",
        "\n",
        "    dict = {'feature': names, 'score': scores}\n",
        "    df_score = pd.DataFrame(dict, columns=['feature', 'score'],index=None)\n",
        "    df_score[df_score['score']>0].sort_values(by='score',ascending=False)\n"
      ]
    },
    {
      "cell_type": "code",
      "execution_count": 30,
      "metadata": {},
      "outputs": [
        {
          "name": "stdout",
          "output_type": "stream",
          "text": [
            "\n",
            "Top 20 Genes based on combined score:\n",
            "\n",
            " 1. Gene_2213 — Score: 1.9241\n",
            " 2. Gene_3712 — Score: 1.9084\n",
            " 3. Gene_11326 — Score: 1.8675\n",
            " 4. Gene_100289574 — Score: 1.8654\n",
            " 5. Gene_10457 — Score: 1.8469\n",
            " 6. Gene_11130 — Score: 1.7872\n",
            " 7. Gene_353322 — Score: 1.7823\n",
            " 8. Gene_26271 — Score: 1.7256\n",
            " 9. Gene_54457 — Score: 1.7093\n",
            "10. Gene_6531 — Score: 1.6940\n",
            "11. Gene_56606 — Score: 1.6869\n",
            "12. Gene_51117 — Score: 1.6844\n",
            "13. Gene_102724127 — Score: 1.6807\n",
            "14. Gene_54807 — Score: 1.6739\n",
            "15. Gene_3835 — Score: 1.6691\n",
            "16. Gene_1153 — Score: 1.6628\n",
            "17. Gene_8635 — Score: 1.6616\n",
            "18. Gene_102723753 — Score: 1.6405\n",
            "19. Gene_8975 — Score: 1.6335\n",
            "20. Gene_10613 — Score: 1.6303\n"
          ]
        }
      ],
      "source": [
        "from sklearn.linear_model import SGDClassifier, LogisticRegression\n",
        "from sklearn.preprocessing import MinMaxScaler\n",
        "import numpy as np\n",
        "\n",
        "# Assume you already have these from before\n",
        "# df = your dataframe with gene expression (samples x genes)\n",
        "# y = label vector (same length as number of samples)\n",
        "# names = list of gene names (column names of df)\n",
        "# X = df.values (gene expression matrix)\n",
        "\n",
        "# === 1. Train both models ===\n",
        "sgd = SGDClassifier(random_state=42, max_iter=1000, tol=1e-3)\n",
        "log = LogisticRegression(random_state=42, max_iter=1000)\n",
        "\n",
        "sgd.fit(X, y)\n",
        "log.fit(X, y)\n",
        "\n",
        "# === 2. Get absolute coefficient scores for genes ===\n",
        "sgd_scores = np.abs(sgd.coef_).flatten()\n",
        "log_scores = np.abs(log.coef_).flatten()\n",
        "\n",
        "# === 3. Normalize both scores between 0 and 1 ===\n",
        "scaler = MinMaxScaler()\n",
        "sgd_norm = scaler.fit_transform(sgd_scores.reshape(-1, 1)).flatten()\n",
        "log_norm = scaler.fit_transform(log_scores.reshape(-1, 1)).flatten()\n",
        "\n",
        "# === 4. Combine scores ===\n",
        "combined_score = sgd_norm + log_norm\n",
        "\n",
        "# === 5. Rank genes ===\n",
        "top_indices = np.argsort(combined_score)[::-1]  # descending order\n",
        "top_genes = [names[i] for i in top_indices]\n",
        "top_scores = [combined_score[i] for i in top_indices]\n",
        "\n",
        "# === 6. Display top N genes ===\n",
        "N = 20\n",
        "print(f\"\\nTop {N} Genes based on combined score:\\n\")\n",
        "for i in range(N):\n",
        "    print(f\"{i+1:2d}. {top_genes[i]} — Score: {top_scores[i]:.4f}\")\n"
      ]
    }
  ],
  "metadata": {
    "colab": {
      "provenance": []
    },
    "kernelspec": {
      "display_name": "base",
      "language": "python",
      "name": "python3"
    },
    "language_info": {
      "codemirror_mode": {
        "name": "ipython",
        "version": 3
      },
      "file_extension": ".py",
      "mimetype": "text/x-python",
      "name": "python",
      "nbconvert_exporter": "python",
      "pygments_lexer": "ipython3",
      "version": "3.11.7"
    }
  },
  "nbformat": 4,
  "nbformat_minor": 0
}
